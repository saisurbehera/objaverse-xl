{
 "cells": [
  {
   "cell_type": "markdown",
   "metadata": {
    "id": "zn7g17hc3ADi"
   },
   "source": [
    "# Objaverse-XL API Tutorial\n",
    "\n",
    "Objaverse-XL is a Universe of 10M+ 3D Objects.\n",
    "\n",
    "It is hosted on 🤗[Hugging Face](https://huggingface.co/datasets/allenai/objaverse-xl) and includes a [Python API on GitHub](https://github.com/allenai/objaverse-xl). This notebook provides a tutorial on downloading objects and annotations!\n",
    "\n",
    "We'll get started by downloading the `objaverse` package from PyPi, which will allow us to easily download subsets of the dataset:"
   ]
  },
  {
   "cell_type": "code",
   "execution_count": 1,
   "metadata": {
    "colab": {
     "base_uri": "https://localhost:8080/",
     "height": 89
    },
    "id": "wLB-BPGqGi2e",
    "outputId": "b53bf6e2-0a7d-49cd-8e70-be4e397687dc"
   },
   "outputs": [
    {
     "data": {
      "text/plain": [
       "'<REPLACE_WITH_VERSION>'"
      ]
     },
     "execution_count": 1,
     "metadata": {},
     "output_type": "execute_result"
    }
   ],
   "source": [
    "!pip install objaverse --upgrade --quiet\n",
    "\n",
    "import objaverse\n",
    "objaverse.__version__"
   ]
  },
  {
   "cell_type": "markdown",
   "metadata": {
    "id": "Z_ScQKLpIGcg"
   },
   "source": [
    "The Objaverse-XL API is in the `xl` submodule. Here we'll import it as use the shorthand `oxl` to refer to it:"
   ]
  },
  {
   "cell_type": "code",
   "execution_count": 2,
   "metadata": {
    "id": "ReHu30YoIvcj"
   },
   "outputs": [],
   "source": [
    "import objaverse.xl as oxl"
   ]
  },
  {
   "cell_type": "markdown",
   "metadata": {
    "id": "o9QT9O3I4KfV"
   },
   "source": [
    "## Annotations\n",
    "\n",
    "The objects that appear in the dataset can be obtained with the `get_annotations` function:\n",
    "\n",
    "```python\n",
    "oxl.get_annotations(\n",
    "    download_dir: str = \"~/.objaverse\",\n",
    ") -> pd.DataFrame\n",
    "```\n",
    "\n",
    "The function takes in a parameter for `download_dir: str = \"~/.objaverse\"`, which is the directory to cache the downloaded annotations. After the annotations are downloaded for the first time, they do not need to be downloaded again, as they are cached.\n",
    "\n",
    "For example:"
   ]
  },
  {
   "cell_type": "code",
   "execution_count": 3,
   "metadata": {
    "colab": {
     "base_uri": "https://localhost:8080/",
     "height": 862
    },
    "id": "t9WbOh0m4kDo",
    "outputId": "e7eb921c-1fb9-40d6-b637-02de536b6d9a"
   },
   "outputs": [
    {
     "name": "stderr",
     "output_type": "stream",
     "text": [
      "\u001b[32m2024-02-01 18:56:28.634\u001b[0m | \u001b[1mINFO    \u001b[0m | \u001b[36mobjaverse.xl.github\u001b[0m:\u001b[36m_get_annotations\u001b[0m:\u001b[36m65\u001b[0m - \u001b[1mDownloading https://huggingface.co/datasets/allenai/objaverse-xl/resolve/main/github/github.parquet to ~/.objaverse/github/github.parquet\u001b[0m\n",
      "\u001b[32m2024-02-01 18:56:48.942\u001b[0m | \u001b[1mINFO    \u001b[0m | \u001b[36mobjaverse.xl.thingiverse\u001b[0m:\u001b[36mget_annotations\u001b[0m:\u001b[36m46\u001b[0m - \u001b[1mDownloading https://huggingface.co/datasets/allenai/objaverse-xl/resolve/main/thingiverse/thingiverse.parquet to ~/.objaverse/thingiverse/thingiverse.parquet\u001b[0m\n",
      "\u001b[32m2024-02-01 18:58:22.766\u001b[0m | \u001b[1mINFO    \u001b[0m | \u001b[36mobjaverse.xl.smithsonian\u001b[0m:\u001b[36mget_annotations\u001b[0m:\u001b[36m47\u001b[0m - \u001b[1mDownloading https://huggingface.co/datasets/allenai/objaverse-xl/resolve/main/smithsonian/smithsonian.parquet to ~/.objaverse/smithsonian/smithsonian.parquet\u001b[0m\n",
      "\u001b[32m2024-02-01 18:58:23.223\u001b[0m | \u001b[1mINFO    \u001b[0m | \u001b[36mobjaverse.xl.sketchfab\u001b[0m:\u001b[36m_get_annotations\u001b[0m:\u001b[36m52\u001b[0m - \u001b[1mDownloading https://huggingface.co/datasets/allenai/objaverse-xl/resolve/main/sketchfab/sketchfab.parquet to ~/.objaverse/sketchfab/sketchfab.parquet\u001b[0m\n"
     ]
    },
    {
     "data": {
      "text/html": [
       "<div>\n",
       "<style scoped>\n",
       "    .dataframe tbody tr th:only-of-type {\n",
       "        vertical-align: middle;\n",
       "    }\n",
       "\n",
       "    .dataframe tbody tr th {\n",
       "        vertical-align: top;\n",
       "    }\n",
       "\n",
       "    .dataframe thead th {\n",
       "        text-align: right;\n",
       "    }\n",
       "</style>\n",
       "<table border=\"1\" class=\"dataframe\">\n",
       "  <thead>\n",
       "    <tr style=\"text-align: right;\">\n",
       "      <th></th>\n",
       "      <th>fileIdentifier</th>\n",
       "      <th>source</th>\n",
       "      <th>license</th>\n",
       "      <th>fileType</th>\n",
       "      <th>sha256</th>\n",
       "      <th>metadata</th>\n",
       "    </tr>\n",
       "  </thead>\n",
       "  <tbody>\n",
       "    <tr>\n",
       "      <th>0</th>\n",
       "      <td>https://github.com/GameGC/Testovoe-SPB-Git/blo...</td>\n",
       "      <td>github</td>\n",
       "      <td>None</td>\n",
       "      <td>obj</td>\n",
       "      <td>fca3990d6d91e110cb920aa3da1a84e54b4a00cde7ad1e...</td>\n",
       "      <td>{}</td>\n",
       "    </tr>\n",
       "    <tr>\n",
       "      <th>1</th>\n",
       "      <td>https://github.com/9-zzz/RitualRex-GGJ2016/blo...</td>\n",
       "      <td>github</td>\n",
       "      <td>None</td>\n",
       "      <td>blend</td>\n",
       "      <td>09dc2689b8d0510885e19a7b525ee44709849d2601add8...</td>\n",
       "      <td>{}</td>\n",
       "    </tr>\n",
       "    <tr>\n",
       "      <th>2</th>\n",
       "      <td>https://github.com/mattoverby/mesh-data/blob/2...</td>\n",
       "      <td>github</td>\n",
       "      <td>MIT License</td>\n",
       "      <td>obj</td>\n",
       "      <td>f9d17190b54b548c6a3e6feebe7b2951a9b8060c507874...</td>\n",
       "      <td>{}</td>\n",
       "    </tr>\n",
       "    <tr>\n",
       "      <th>3</th>\n",
       "      <td>https://github.com/0010cha/data_origami/blob/0...</td>\n",
       "      <td>github</td>\n",
       "      <td>MIT License</td>\n",
       "      <td>ply</td>\n",
       "      <td>f25184898312af8ed5e77cfe675d2251c9893ac5ccc3a1...</td>\n",
       "      <td>{}</td>\n",
       "    </tr>\n",
       "    <tr>\n",
       "      <th>4</th>\n",
       "      <td>https://github.com/Xrvitd/Point2Skeleton_withC...</td>\n",
       "      <td>github</td>\n",
       "      <td>MIT License</td>\n",
       "      <td>ply</td>\n",
       "      <td>d721e6b1b97a83d1f6700045efcb478a1db4686b0571f6...</td>\n",
       "      <td>{}</td>\n",
       "    </tr>\n",
       "    <tr>\n",
       "      <th>...</th>\n",
       "      <td>...</td>\n",
       "      <td>...</td>\n",
       "      <td>...</td>\n",
       "      <td>...</td>\n",
       "      <td>...</td>\n",
       "      <td>...</td>\n",
       "    </tr>\n",
       "    <tr>\n",
       "      <th>9767006</th>\n",
       "      <td>https://sketchfab.com/3d-models/cc2c9ac5149b40...</td>\n",
       "      <td>sketchfab</td>\n",
       "      <td>Creative Commons - Attribution</td>\n",
       "      <td>glb</td>\n",
       "      <td>76cc3e0343be2452fb7a1d8f6eb295f9067e859f353bb8...</td>\n",
       "      <td>{}</td>\n",
       "    </tr>\n",
       "    <tr>\n",
       "      <th>9767007</th>\n",
       "      <td>https://sketchfab.com/3d-models/48ad63b00c4448...</td>\n",
       "      <td>sketchfab</td>\n",
       "      <td>Creative Commons - Attribution</td>\n",
       "      <td>glb</td>\n",
       "      <td>15524e631cecaf3537bbbd9756a94ffa78b275ce77e683...</td>\n",
       "      <td>{}</td>\n",
       "    </tr>\n",
       "    <tr>\n",
       "      <th>9767008</th>\n",
       "      <td>https://sketchfab.com/3d-models/3f61c303139f4d...</td>\n",
       "      <td>sketchfab</td>\n",
       "      <td>Creative Commons - Attribution</td>\n",
       "      <td>glb</td>\n",
       "      <td>4b4a2c0e5f4bd89b15c9551c7c34c0083774ead2fb6354...</td>\n",
       "      <td>{}</td>\n",
       "    </tr>\n",
       "    <tr>\n",
       "      <th>9767009</th>\n",
       "      <td>https://sketchfab.com/3d-models/bc79ba06d75740...</td>\n",
       "      <td>sketchfab</td>\n",
       "      <td>Creative Commons - Attribution</td>\n",
       "      <td>glb</td>\n",
       "      <td>9e71bc509985344446e075bac884cd1a76c24b09f82217...</td>\n",
       "      <td>{}</td>\n",
       "    </tr>\n",
       "    <tr>\n",
       "      <th>9767010</th>\n",
       "      <td>https://sketchfab.com/3d-models/4d03e14ded2a4d...</td>\n",
       "      <td>sketchfab</td>\n",
       "      <td>Creative Commons - Attribution</td>\n",
       "      <td>glb</td>\n",
       "      <td>a4e94c097ffbad25e18f95a94ea5ed0daa102847e329c8...</td>\n",
       "      <td>{}</td>\n",
       "    </tr>\n",
       "  </tbody>\n",
       "</table>\n",
       "<p>9767011 rows × 6 columns</p>\n",
       "</div>"
      ],
      "text/plain": [
       "                                            fileIdentifier     source  \\\n",
       "0        https://github.com/GameGC/Testovoe-SPB-Git/blo...     github   \n",
       "1        https://github.com/9-zzz/RitualRex-GGJ2016/blo...     github   \n",
       "2        https://github.com/mattoverby/mesh-data/blob/2...     github   \n",
       "3        https://github.com/0010cha/data_origami/blob/0...     github   \n",
       "4        https://github.com/Xrvitd/Point2Skeleton_withC...     github   \n",
       "...                                                    ...        ...   \n",
       "9767006  https://sketchfab.com/3d-models/cc2c9ac5149b40...  sketchfab   \n",
       "9767007  https://sketchfab.com/3d-models/48ad63b00c4448...  sketchfab   \n",
       "9767008  https://sketchfab.com/3d-models/3f61c303139f4d...  sketchfab   \n",
       "9767009  https://sketchfab.com/3d-models/bc79ba06d75740...  sketchfab   \n",
       "9767010  https://sketchfab.com/3d-models/4d03e14ded2a4d...  sketchfab   \n",
       "\n",
       "                                license fileType  \\\n",
       "0                                  None      obj   \n",
       "1                                  None    blend   \n",
       "2                           MIT License      obj   \n",
       "3                           MIT License      ply   \n",
       "4                           MIT License      ply   \n",
       "...                                 ...      ...   \n",
       "9767006  Creative Commons - Attribution      glb   \n",
       "9767007  Creative Commons - Attribution      glb   \n",
       "9767008  Creative Commons - Attribution      glb   \n",
       "9767009  Creative Commons - Attribution      glb   \n",
       "9767010  Creative Commons - Attribution      glb   \n",
       "\n",
       "                                                    sha256 metadata  \n",
       "0        fca3990d6d91e110cb920aa3da1a84e54b4a00cde7ad1e...       {}  \n",
       "1        09dc2689b8d0510885e19a7b525ee44709849d2601add8...       {}  \n",
       "2        f9d17190b54b548c6a3e6feebe7b2951a9b8060c507874...       {}  \n",
       "3        f25184898312af8ed5e77cfe675d2251c9893ac5ccc3a1...       {}  \n",
       "4        d721e6b1b97a83d1f6700045efcb478a1db4686b0571f6...       {}  \n",
       "...                                                    ...      ...  \n",
       "9767006  76cc3e0343be2452fb7a1d8f6eb295f9067e859f353bb8...       {}  \n",
       "9767007  15524e631cecaf3537bbbd9756a94ffa78b275ce77e683...       {}  \n",
       "9767008  4b4a2c0e5f4bd89b15c9551c7c34c0083774ead2fb6354...       {}  \n",
       "9767009  9e71bc509985344446e075bac884cd1a76c24b09f82217...       {}  \n",
       "9767010  a4e94c097ffbad25e18f95a94ea5ed0daa102847e329c8...       {}  \n",
       "\n",
       "[9767011 rows x 6 columns]"
      ]
     },
     "execution_count": 3,
     "metadata": {},
     "output_type": "execute_result"
    }
   ],
   "source": [
    "annotations = oxl.get_annotations(\n",
    "    download_dir=\"~/.objaverse\" # default download directory\n",
    ")\n",
    "annotations"
   ]
  },
  {
   "cell_type": "markdown",
   "metadata": {
    "id": "bItU8CwCH8e9"
   },
   "source": [
    "> Note: Some objects are still under review for being publicly released.\n",
    "\n",
    "Here, `annotations` is a pandas DataFrame. These annotations are meant to provide a minimal amount of information about the objects that are standarized across each source and allow it to be downloaded. Each object is a row, and has attributes for:\n",
    "- `fileIdentifier` - A unique identifier of the 3D object. Typically the URL that links back to the object.\n",
    "- `source` - The website where the 3D object comes from.\n",
    "- `license` - The license that the original object was distributed under.\n",
    "- `fileType` - The 3D file type of the object (e.g., `fbx`, `obj`, `glb`).\n",
    "- `sha256` - The cryptographic hash of the contents of the object (used for deduplication and to check if the object has not been modified since the dataset was originally released).\n",
    "- `metadata` - Additional metadata of the object that might be site specific (e.g., the file name). To keep the `annotations` DataFrame lightweight, more detailed annotations may be available as standalone functions (e.g., `objaverse.load_lvis_annotations()`). See the Objaverse 1.0 documentation for more specific annotations.\n",
    "\n",
    "Since the annotations is a pandas DataFrame object, we can do standard operations on it, such as getting the value counts of different attributes:"
   ]
  },
  {
   "cell_type": "code",
   "execution_count": 4,
   "metadata": {
    "colab": {
     "base_uri": "https://localhost:8080/"
    },
    "id": "lBMl0PGGdKmP",
    "outputId": "21d6408c-59f5-45d0-8123-6768ef6fd92c"
   },
   "outputs": [
    {
     "data": {
      "text/plain": [
       "source\n",
       "github         5236361\n",
       "thingiverse    3732212\n",
       "sketchfab       796031\n",
       "smithsonian       2407\n",
       "Name: count, dtype: int64"
      ]
     },
     "execution_count": 4,
     "metadata": {},
     "output_type": "execute_result"
    }
   ],
   "source": [
    "annotations[\"source\"].value_counts()"
   ]
  },
  {
   "cell_type": "code",
   "execution_count": 5,
   "metadata": {
    "colab": {
     "base_uri": "https://localhost:8080/"
    },
    "id": "yDTCdD19Ld9v",
    "outputId": "e5687504-4a5b-4c7b-d52d-7eb5c3d45a96"
   },
   "outputs": [
    {
     "data": {
      "text/plain": [
       "fileType\n",
       "stl      4317074\n",
       "obj      1620091\n",
       "fbx      1509719\n",
       "glb       985124\n",
       "ply       839343\n",
       "blend     238201\n",
       "gltf      127287\n",
       "dae       123438\n",
       "usdz        5681\n",
       "abc         1053\n",
       "Name: count, dtype: int64"
      ]
     },
     "execution_count": 5,
     "metadata": {},
     "output_type": "execute_result"
    }
   ],
   "source": [
    "annotations[\"fileType\"].value_counts()"
   ]
  },
  {
   "cell_type": "markdown",
   "metadata": {
    "id": "EKbyCW04L2NZ"
   },
   "source": [
    "And randomly sample objects:"
   ]
  },
  {
   "cell_type": "code",
   "execution_count": 6,
   "metadata": {
    "colab": {
     "base_uri": "https://localhost:8080/",
     "height": 452
    },
    "id": "YpTXV8ysL6oP",
    "outputId": "9ba11c1a-8c30-4db3-9f12-76bfdc3141dd"
   },
   "outputs": [
    {
     "data": {
      "text/html": [
       "<div>\n",
       "<style scoped>\n",
       "    .dataframe tbody tr th:only-of-type {\n",
       "        vertical-align: middle;\n",
       "    }\n",
       "\n",
       "    .dataframe tbody tr th {\n",
       "        vertical-align: top;\n",
       "    }\n",
       "\n",
       "    .dataframe thead th {\n",
       "        text-align: right;\n",
       "    }\n",
       "</style>\n",
       "<table border=\"1\" class=\"dataframe\">\n",
       "  <thead>\n",
       "    <tr style=\"text-align: right;\">\n",
       "      <th></th>\n",
       "      <th>fileIdentifier</th>\n",
       "      <th>source</th>\n",
       "      <th>license</th>\n",
       "      <th>fileType</th>\n",
       "      <th>sha256</th>\n",
       "      <th>metadata</th>\n",
       "    </tr>\n",
       "  </thead>\n",
       "  <tbody>\n",
       "    <tr>\n",
       "      <th>3908415</th>\n",
       "      <td>https://github.com/sarettak/3DCityReconstructi...</td>\n",
       "      <td>github</td>\n",
       "      <td>MIT License</td>\n",
       "      <td>ply</td>\n",
       "      <td>c195dade83e79edb2b443ced126ab5e74d0eba68d542e5...</td>\n",
       "      <td>{}</td>\n",
       "    </tr>\n",
       "    <tr>\n",
       "      <th>2986384</th>\n",
       "      <td>https://github.com/shaafiea/EmotionalSanity_TB...</td>\n",
       "      <td>github</td>\n",
       "      <td>None</td>\n",
       "      <td>fbx</td>\n",
       "      <td>54507e118ac6b45af8f39fe1a1198c7f6ed41caa82b595...</td>\n",
       "      <td>{}</td>\n",
       "    </tr>\n",
       "    <tr>\n",
       "      <th>1410058</th>\n",
       "      <td>https://github.com/Canonelis/ttsjiggys/blob/00...</td>\n",
       "      <td>github</td>\n",
       "      <td>None</td>\n",
       "      <td>obj</td>\n",
       "      <td>e82f2ed185c66d7306495c657853dd1ab6a8b1bf4dd432...</td>\n",
       "      <td>{}</td>\n",
       "    </tr>\n",
       "    <tr>\n",
       "      <th>4955661</th>\n",
       "      <td>https://github.com/iagolucchese/HomeAloneHallo...</td>\n",
       "      <td>github</td>\n",
       "      <td>None</td>\n",
       "      <td>fbx</td>\n",
       "      <td>3845c4091a7a66b63f9627e0e27c1ef3d8ec7f02a9e861...</td>\n",
       "      <td>{}</td>\n",
       "    </tr>\n",
       "    <tr>\n",
       "      <th>2716560</th>\n",
       "      <td>https://github.com/ajhamdi/AdvPC/blob/c0f0d442...</td>\n",
       "      <td>github</td>\n",
       "      <td>MIT License</td>\n",
       "      <td>ply</td>\n",
       "      <td>4f27d13459ad8ad6098ac201c780a72f3ca3127d07744e...</td>\n",
       "      <td>{}</td>\n",
       "    </tr>\n",
       "  </tbody>\n",
       "</table>\n",
       "</div>"
      ],
      "text/plain": [
       "                                            fileIdentifier  source  \\\n",
       "3908415  https://github.com/sarettak/3DCityReconstructi...  github   \n",
       "2986384  https://github.com/shaafiea/EmotionalSanity_TB...  github   \n",
       "1410058  https://github.com/Canonelis/ttsjiggys/blob/00...  github   \n",
       "4955661  https://github.com/iagolucchese/HomeAloneHallo...  github   \n",
       "2716560  https://github.com/ajhamdi/AdvPC/blob/c0f0d442...  github   \n",
       "\n",
       "             license fileType  \\\n",
       "3908415  MIT License      ply   \n",
       "2986384         None      fbx   \n",
       "1410058         None      obj   \n",
       "4955661         None      fbx   \n",
       "2716560  MIT License      ply   \n",
       "\n",
       "                                                    sha256 metadata  \n",
       "3908415  c195dade83e79edb2b443ced126ab5e74d0eba68d542e5...       {}  \n",
       "2986384  54507e118ac6b45af8f39fe1a1198c7f6ed41caa82b595...       {}  \n",
       "1410058  e82f2ed185c66d7306495c657853dd1ab6a8b1bf4dd432...       {}  \n",
       "4955661  3845c4091a7a66b63f9627e0e27c1ef3d8ec7f02a9e861...       {}  \n",
       "2716560  4f27d13459ad8ad6098ac201c780a72f3ca3127d07744e...       {}  "
      ]
     },
     "execution_count": 6,
     "metadata": {},
     "output_type": "execute_result"
    }
   ],
   "source": [
    "annotations.sample(5)"
   ]
  },
  {
   "cell_type": "markdown",
   "metadata": {
    "id": "g1UvfZd8AXil"
   },
   "source": [
    "## Alignment Fine-tuning Annotations\n",
    "\n",
    "For training Zero123-XL, we first started by training on the entire dataset, and then performed fine-tuning on a smaller, more high-quality 3D dataset. To load in the dataset that was used for fine-tuning, we can run:"
   ]
  },
  {
   "cell_type": "code",
   "execution_count": 15,
   "metadata": {
    "colab": {
     "base_uri": "https://localhost:8080/",
     "height": 792
    },
    "id": "4S_yqHYLAz8p",
    "outputId": "7ff1476f-07af-4e9f-cc17-d8ba253a9699"
   },
   "outputs": [
    {
     "name": "stderr",
     "output_type": "stream",
     "text": [
      "\u001b[32m2024-02-01 19:06:10.894\u001b[0m | \u001b[1mINFO    \u001b[0m | \u001b[36mobjaverse.xl.github\u001b[0m:\u001b[36m_get_annotations\u001b[0m:\u001b[36m65\u001b[0m - \u001b[1mDownloading https://huggingface.co/datasets/allenai/objaverse-xl/resolve/main/github/alignment.parquet to ~/.objaverse/github/alignment.parquet\u001b[0m\n",
      "\u001b[32m2024-02-01 19:06:14.538\u001b[0m | \u001b[1mINFO    \u001b[0m | \u001b[36mobjaverse.xl.sketchfab\u001b[0m:\u001b[36m_get_annotations\u001b[0m:\u001b[36m52\u001b[0m - \u001b[1mDownloading https://huggingface.co/datasets/allenai/objaverse-xl/resolve/main/sketchfab/alignment.parquet to ~/.objaverse/sketchfab/alignment.parquet\u001b[0m\n"
     ]
    },
    {
     "ename": "KeyboardInterrupt",
     "evalue": "",
     "output_type": "error",
     "traceback": [
      "\u001b[0;31m---------------------------------------------------------------------------\u001b[0m",
      "\u001b[0;31mKeyboardInterrupt\u001b[0m                         Traceback (most recent call last)",
      "Cell \u001b[0;32mIn[15], line 1\u001b[0m\n\u001b[0;32m----> 1\u001b[0m alignment_annotations \u001b[38;5;241m=\u001b[39m \u001b[43moxl\u001b[49m\u001b[38;5;241;43m.\u001b[39;49m\u001b[43mget_alignment_annotations\u001b[49m\u001b[43m(\u001b[49m\n\u001b[1;32m      2\u001b[0m \u001b[43m    \u001b[49m\u001b[43mdownload_dir\u001b[49m\u001b[38;5;241;43m=\u001b[39;49m\u001b[38;5;124;43m\"\u001b[39;49m\u001b[38;5;124;43m~/.objaverse\u001b[39;49m\u001b[38;5;124;43m\"\u001b[39;49m\u001b[43m \u001b[49m\u001b[38;5;66;43;03m# default download directory\u001b[39;49;00m\n\u001b[1;32m      3\u001b[0m \u001b[43m)\u001b[49m\n\u001b[1;32m      4\u001b[0m alignment_annotations\n",
      "File \u001b[0;32m~/Desktop/objaverse-xl/objaverse/xl/__init__.py:61\u001b[0m, in \u001b[0;36mget_alignment_annotations\u001b[0;34m(download_dir, refresh)\u001b[0m\n\u001b[1;32m     44\u001b[0m \u001b[38;5;28;01mdef\u001b[39;00m \u001b[38;5;21mget_alignment_annotations\u001b[39m(\n\u001b[1;32m     45\u001b[0m     download_dir: \u001b[38;5;28mstr\u001b[39m \u001b[38;5;241m=\u001b[39m \u001b[38;5;124m\"\u001b[39m\u001b[38;5;124m~/.objaverse\u001b[39m\u001b[38;5;124m\"\u001b[39m, refresh: \u001b[38;5;28mbool\u001b[39m \u001b[38;5;241m=\u001b[39m \u001b[38;5;28;01mFalse\u001b[39;00m\n\u001b[1;32m     46\u001b[0m ) \u001b[38;5;241m-\u001b[39m\u001b[38;5;241m>\u001b[39m pd\u001b[38;5;241m.\u001b[39mDataFrame:\n\u001b[1;32m     47\u001b[0m \u001b[38;5;250m    \u001b[39m\u001b[38;5;124;03m\"\"\"Loads the 3D object metadata for the objects used during alignment fine-tuning.\u001b[39;00m\n\u001b[1;32m     48\u001b[0m \n\u001b[1;32m     49\u001b[0m \u001b[38;5;124;03m    Args:\u001b[39;00m\n\u001b[0;32m   (...)\u001b[0m\n\u001b[1;32m     59\u001b[0m \u001b[38;5;124;03m            \"sha256\", and \"metadata\".\u001b[39;00m\n\u001b[1;32m     60\u001b[0m \u001b[38;5;124;03m    \"\"\"\u001b[39;00m\n\u001b[0;32m---> 61\u001b[0m     annotations \u001b[38;5;241m=\u001b[39m [\n\u001b[1;32m     62\u001b[0m         downloader\u001b[38;5;241m.\u001b[39mget_alignment_annotations(download_dir\u001b[38;5;241m=\u001b[39mdownload_dir, refresh\u001b[38;5;241m=\u001b[39mrefresh)\n\u001b[1;32m     63\u001b[0m         \u001b[38;5;28;01mfor\u001b[39;00m source, downloader \u001b[38;5;129;01min\u001b[39;00m downloaders\u001b[38;5;241m.\u001b[39mitems()\n\u001b[1;32m     64\u001b[0m         \u001b[38;5;28;01mif\u001b[39;00m source \u001b[38;5;129;01min\u001b[39;00m {\u001b[38;5;124m\"\u001b[39m\u001b[38;5;124mgithub\u001b[39m\u001b[38;5;124m\"\u001b[39m, \u001b[38;5;124m\"\u001b[39m\u001b[38;5;124msketchfab\u001b[39m\u001b[38;5;124m\"\u001b[39m}\n\u001b[1;32m     65\u001b[0m     ]\n\u001b[1;32m     66\u001b[0m     \u001b[38;5;28;01mreturn\u001b[39;00m pd\u001b[38;5;241m.\u001b[39mconcat(annotations, ignore_index\u001b[38;5;241m=\u001b[39m\u001b[38;5;28;01mTrue\u001b[39;00m)\n",
      "File \u001b[0;32m~/Desktop/objaverse-xl/objaverse/xl/__init__.py:62\u001b[0m, in \u001b[0;36m<listcomp>\u001b[0;34m(.0)\u001b[0m\n\u001b[1;32m     44\u001b[0m \u001b[38;5;28;01mdef\u001b[39;00m \u001b[38;5;21mget_alignment_annotations\u001b[39m(\n\u001b[1;32m     45\u001b[0m     download_dir: \u001b[38;5;28mstr\u001b[39m \u001b[38;5;241m=\u001b[39m \u001b[38;5;124m\"\u001b[39m\u001b[38;5;124m~/.objaverse\u001b[39m\u001b[38;5;124m\"\u001b[39m, refresh: \u001b[38;5;28mbool\u001b[39m \u001b[38;5;241m=\u001b[39m \u001b[38;5;28;01mFalse\u001b[39;00m\n\u001b[1;32m     46\u001b[0m ) \u001b[38;5;241m-\u001b[39m\u001b[38;5;241m>\u001b[39m pd\u001b[38;5;241m.\u001b[39mDataFrame:\n\u001b[1;32m     47\u001b[0m \u001b[38;5;250m    \u001b[39m\u001b[38;5;124;03m\"\"\"Loads the 3D object metadata for the objects used during alignment fine-tuning.\u001b[39;00m\n\u001b[1;32m     48\u001b[0m \n\u001b[1;32m     49\u001b[0m \u001b[38;5;124;03m    Args:\u001b[39;00m\n\u001b[0;32m   (...)\u001b[0m\n\u001b[1;32m     59\u001b[0m \u001b[38;5;124;03m            \"sha256\", and \"metadata\".\u001b[39;00m\n\u001b[1;32m     60\u001b[0m \u001b[38;5;124;03m    \"\"\"\u001b[39;00m\n\u001b[1;32m     61\u001b[0m     annotations \u001b[38;5;241m=\u001b[39m [\n\u001b[0;32m---> 62\u001b[0m         \u001b[43mdownloader\u001b[49m\u001b[38;5;241;43m.\u001b[39;49m\u001b[43mget_alignment_annotations\u001b[49m\u001b[43m(\u001b[49m\u001b[43mdownload_dir\u001b[49m\u001b[38;5;241;43m=\u001b[39;49m\u001b[43mdownload_dir\u001b[49m\u001b[43m,\u001b[49m\u001b[43m \u001b[49m\u001b[43mrefresh\u001b[49m\u001b[38;5;241;43m=\u001b[39;49m\u001b[43mrefresh\u001b[49m\u001b[43m)\u001b[49m\n\u001b[1;32m     63\u001b[0m         \u001b[38;5;28;01mfor\u001b[39;00m source, downloader \u001b[38;5;129;01min\u001b[39;00m downloaders\u001b[38;5;241m.\u001b[39mitems()\n\u001b[1;32m     64\u001b[0m         \u001b[38;5;28;01mif\u001b[39;00m source \u001b[38;5;129;01min\u001b[39;00m {\u001b[38;5;124m\"\u001b[39m\u001b[38;5;124mgithub\u001b[39m\u001b[38;5;124m\"\u001b[39m, \u001b[38;5;124m\"\u001b[39m\u001b[38;5;124msketchfab\u001b[39m\u001b[38;5;124m\"\u001b[39m}\n\u001b[1;32m     65\u001b[0m     ]\n\u001b[1;32m     66\u001b[0m     \u001b[38;5;28;01mreturn\u001b[39;00m pd\u001b[38;5;241m.\u001b[39mconcat(annotations, ignore_index\u001b[38;5;241m=\u001b[39m\u001b[38;5;28;01mTrue\u001b[39;00m)\n",
      "File \u001b[0;32m~/Desktop/objaverse-xl/objaverse/xl/sketchfab.py:107\u001b[0m, in \u001b[0;36mSketchfabDownloader.get_alignment_annotations\u001b[0;34m(cls, download_dir, refresh)\u001b[0m\n\u001b[1;32m     90\u001b[0m \u001b[38;5;129m@classmethod\u001b[39m\n\u001b[1;32m     91\u001b[0m \u001b[38;5;28;01mdef\u001b[39;00m \u001b[38;5;21mget_alignment_annotations\u001b[39m(\n\u001b[1;32m     92\u001b[0m     \u001b[38;5;28mcls\u001b[39m, download_dir: \u001b[38;5;28mstr\u001b[39m \u001b[38;5;241m=\u001b[39m \u001b[38;5;124m\"\u001b[39m\u001b[38;5;124m~/.objaverse\u001b[39m\u001b[38;5;124m\"\u001b[39m, refresh: \u001b[38;5;28mbool\u001b[39m \u001b[38;5;241m=\u001b[39m \u001b[38;5;28;01mFalse\u001b[39;00m\n\u001b[1;32m     93\u001b[0m ) \u001b[38;5;241m-\u001b[39m\u001b[38;5;241m>\u001b[39m pd\u001b[38;5;241m.\u001b[39mDataFrame:\n\u001b[1;32m     94\u001b[0m \u001b[38;5;250m    \u001b[39m\u001b[38;5;124;03m\"\"\"Load the annotations that were used for alignment fine-tuning.\u001b[39;00m\n\u001b[1;32m     95\u001b[0m \n\u001b[1;32m     96\u001b[0m \u001b[38;5;124;03m    Args:\u001b[39;00m\n\u001b[0;32m   (...)\u001b[0m\n\u001b[1;32m    105\u001b[0m \u001b[38;5;124;03m            \"filename\", and \"license\".\u001b[39;00m\n\u001b[1;32m    106\u001b[0m \u001b[38;5;124;03m    \"\"\"\u001b[39;00m\n\u001b[0;32m--> 107\u001b[0m     \u001b[38;5;28;01mreturn\u001b[39;00m \u001b[38;5;28;43mcls\u001b[39;49m\u001b[38;5;241;43m.\u001b[39;49m\u001b[43m_get_annotations\u001b[49m\u001b[43m(\u001b[49m\n\u001b[1;32m    108\u001b[0m \u001b[43m        \u001b[49m\u001b[43murl\u001b[49m\u001b[38;5;241;43m=\u001b[39;49m\u001b[38;5;124;43m\"\u001b[39;49m\u001b[38;5;124;43mhttps://huggingface.co/datasets/allenai/objaverse-xl/resolve/main/sketchfab/alignment.parquet\u001b[39;49m\u001b[38;5;124;43m\"\u001b[39;49m\u001b[43m,\u001b[49m\n\u001b[1;32m    109\u001b[0m \u001b[43m        \u001b[49m\u001b[43mfilename\u001b[49m\u001b[38;5;241;43m=\u001b[39;49m\u001b[38;5;124;43m\"\u001b[39;49m\u001b[38;5;124;43malignment.parquet\u001b[39;49m\u001b[38;5;124;43m\"\u001b[39;49m\u001b[43m,\u001b[49m\n\u001b[1;32m    110\u001b[0m \u001b[43m        \u001b[49m\u001b[43mdownload_dir\u001b[49m\u001b[38;5;241;43m=\u001b[39;49m\u001b[43mdownload_dir\u001b[49m\u001b[43m,\u001b[49m\n\u001b[1;32m    111\u001b[0m \u001b[43m        \u001b[49m\u001b[43mrefresh\u001b[49m\u001b[38;5;241;43m=\u001b[39;49m\u001b[43mrefresh\u001b[49m\u001b[43m,\u001b[49m\n\u001b[1;32m    112\u001b[0m \u001b[43m    \u001b[49m\u001b[43m)\u001b[49m\n",
      "File \u001b[0;32m~/Desktop/objaverse-xl/objaverse/xl/sketchfab.py:53\u001b[0m, in \u001b[0;36mSketchfabDownloader._get_annotations\u001b[0;34m(cls, url, filename, download_dir, refresh)\u001b[0m\n\u001b[1;32m     51\u001b[0m fs\u001b[38;5;241m.\u001b[39mmakedirs(os\u001b[38;5;241m.\u001b[39mpath\u001b[38;5;241m.\u001b[39mdirname(path), exist_ok\u001b[38;5;241m=\u001b[39m\u001b[38;5;28;01mTrue\u001b[39;00m)\n\u001b[1;32m     52\u001b[0m logger\u001b[38;5;241m.\u001b[39minfo(\u001b[38;5;124mf\u001b[39m\u001b[38;5;124m\"\u001b[39m\u001b[38;5;124mDownloading \u001b[39m\u001b[38;5;132;01m{\u001b[39;00murl\u001b[38;5;132;01m}\u001b[39;00m\u001b[38;5;124m to \u001b[39m\u001b[38;5;132;01m{\u001b[39;00mdownload_path\u001b[38;5;132;01m}\u001b[39;00m\u001b[38;5;124m\"\u001b[39m)\n\u001b[0;32m---> 53\u001b[0m response \u001b[38;5;241m=\u001b[39m \u001b[43mrequests\u001b[49m\u001b[38;5;241;43m.\u001b[39;49m\u001b[43mget\u001b[49m\u001b[43m(\u001b[49m\u001b[43murl\u001b[49m\u001b[43m)\u001b[49m\n\u001b[1;32m     54\u001b[0m response\u001b[38;5;241m.\u001b[39mraise_for_status()\n\u001b[1;32m     55\u001b[0m \u001b[38;5;28;01mwith\u001b[39;00m fs\u001b[38;5;241m.\u001b[39mopen(path, \u001b[38;5;124m\"\u001b[39m\u001b[38;5;124mwb\u001b[39m\u001b[38;5;124m\"\u001b[39m) \u001b[38;5;28;01mas\u001b[39;00m file:\n",
      "File \u001b[0;32m~/.local/lib/python3.10/site-packages/requests/api.py:73\u001b[0m, in \u001b[0;36mget\u001b[0;34m(url, params, **kwargs)\u001b[0m\n\u001b[1;32m     62\u001b[0m \u001b[38;5;28;01mdef\u001b[39;00m \u001b[38;5;21mget\u001b[39m(url, params\u001b[38;5;241m=\u001b[39m\u001b[38;5;28;01mNone\u001b[39;00m, \u001b[38;5;241m*\u001b[39m\u001b[38;5;241m*\u001b[39mkwargs):\n\u001b[1;32m     63\u001b[0m \u001b[38;5;250m    \u001b[39m\u001b[38;5;124mr\u001b[39m\u001b[38;5;124;03m\"\"\"Sends a GET request.\u001b[39;00m\n\u001b[1;32m     64\u001b[0m \n\u001b[1;32m     65\u001b[0m \u001b[38;5;124;03m    :param url: URL for the new :class:`Request` object.\u001b[39;00m\n\u001b[0;32m   (...)\u001b[0m\n\u001b[1;32m     70\u001b[0m \u001b[38;5;124;03m    :rtype: requests.Response\u001b[39;00m\n\u001b[1;32m     71\u001b[0m \u001b[38;5;124;03m    \"\"\"\u001b[39;00m\n\u001b[0;32m---> 73\u001b[0m     \u001b[38;5;28;01mreturn\u001b[39;00m \u001b[43mrequest\u001b[49m\u001b[43m(\u001b[49m\u001b[38;5;124;43m\"\u001b[39;49m\u001b[38;5;124;43mget\u001b[39;49m\u001b[38;5;124;43m\"\u001b[39;49m\u001b[43m,\u001b[49m\u001b[43m \u001b[49m\u001b[43murl\u001b[49m\u001b[43m,\u001b[49m\u001b[43m \u001b[49m\u001b[43mparams\u001b[49m\u001b[38;5;241;43m=\u001b[39;49m\u001b[43mparams\u001b[49m\u001b[43m,\u001b[49m\u001b[43m \u001b[49m\u001b[38;5;241;43m*\u001b[39;49m\u001b[38;5;241;43m*\u001b[39;49m\u001b[43mkwargs\u001b[49m\u001b[43m)\u001b[49m\n",
      "File \u001b[0;32m~/.local/lib/python3.10/site-packages/requests/api.py:59\u001b[0m, in \u001b[0;36mrequest\u001b[0;34m(method, url, **kwargs)\u001b[0m\n\u001b[1;32m     55\u001b[0m \u001b[38;5;66;03m# By using the 'with' statement we are sure the session is closed, thus we\u001b[39;00m\n\u001b[1;32m     56\u001b[0m \u001b[38;5;66;03m# avoid leaving sockets open which can trigger a ResourceWarning in some\u001b[39;00m\n\u001b[1;32m     57\u001b[0m \u001b[38;5;66;03m# cases, and look like a memory leak in others.\u001b[39;00m\n\u001b[1;32m     58\u001b[0m \u001b[38;5;28;01mwith\u001b[39;00m sessions\u001b[38;5;241m.\u001b[39mSession() \u001b[38;5;28;01mas\u001b[39;00m session:\n\u001b[0;32m---> 59\u001b[0m     \u001b[38;5;28;01mreturn\u001b[39;00m \u001b[43msession\u001b[49m\u001b[38;5;241;43m.\u001b[39;49m\u001b[43mrequest\u001b[49m\u001b[43m(\u001b[49m\u001b[43mmethod\u001b[49m\u001b[38;5;241;43m=\u001b[39;49m\u001b[43mmethod\u001b[49m\u001b[43m,\u001b[49m\u001b[43m \u001b[49m\u001b[43murl\u001b[49m\u001b[38;5;241;43m=\u001b[39;49m\u001b[43murl\u001b[49m\u001b[43m,\u001b[49m\u001b[43m \u001b[49m\u001b[38;5;241;43m*\u001b[39;49m\u001b[38;5;241;43m*\u001b[39;49m\u001b[43mkwargs\u001b[49m\u001b[43m)\u001b[49m\n",
      "File \u001b[0;32m~/.local/lib/python3.10/site-packages/requests/sessions.py:589\u001b[0m, in \u001b[0;36mSession.request\u001b[0;34m(self, method, url, params, data, headers, cookies, files, auth, timeout, allow_redirects, proxies, hooks, stream, verify, cert, json)\u001b[0m\n\u001b[1;32m    584\u001b[0m send_kwargs \u001b[38;5;241m=\u001b[39m {\n\u001b[1;32m    585\u001b[0m     \u001b[38;5;124m\"\u001b[39m\u001b[38;5;124mtimeout\u001b[39m\u001b[38;5;124m\"\u001b[39m: timeout,\n\u001b[1;32m    586\u001b[0m     \u001b[38;5;124m\"\u001b[39m\u001b[38;5;124mallow_redirects\u001b[39m\u001b[38;5;124m\"\u001b[39m: allow_redirects,\n\u001b[1;32m    587\u001b[0m }\n\u001b[1;32m    588\u001b[0m send_kwargs\u001b[38;5;241m.\u001b[39mupdate(settings)\n\u001b[0;32m--> 589\u001b[0m resp \u001b[38;5;241m=\u001b[39m \u001b[38;5;28;43mself\u001b[39;49m\u001b[38;5;241;43m.\u001b[39;49m\u001b[43msend\u001b[49m\u001b[43m(\u001b[49m\u001b[43mprep\u001b[49m\u001b[43m,\u001b[49m\u001b[43m \u001b[49m\u001b[38;5;241;43m*\u001b[39;49m\u001b[38;5;241;43m*\u001b[39;49m\u001b[43msend_kwargs\u001b[49m\u001b[43m)\u001b[49m\n\u001b[1;32m    591\u001b[0m \u001b[38;5;28;01mreturn\u001b[39;00m resp\n",
      "File \u001b[0;32m~/.local/lib/python3.10/site-packages/requests/sessions.py:703\u001b[0m, in \u001b[0;36mSession.send\u001b[0;34m(self, request, **kwargs)\u001b[0m\n\u001b[1;32m    700\u001b[0m start \u001b[38;5;241m=\u001b[39m preferred_clock()\n\u001b[1;32m    702\u001b[0m \u001b[38;5;66;03m# Send the request\u001b[39;00m\n\u001b[0;32m--> 703\u001b[0m r \u001b[38;5;241m=\u001b[39m \u001b[43madapter\u001b[49m\u001b[38;5;241;43m.\u001b[39;49m\u001b[43msend\u001b[49m\u001b[43m(\u001b[49m\u001b[43mrequest\u001b[49m\u001b[43m,\u001b[49m\u001b[43m \u001b[49m\u001b[38;5;241;43m*\u001b[39;49m\u001b[38;5;241;43m*\u001b[39;49m\u001b[43mkwargs\u001b[49m\u001b[43m)\u001b[49m\n\u001b[1;32m    705\u001b[0m \u001b[38;5;66;03m# Total elapsed time of the request (approximately)\u001b[39;00m\n\u001b[1;32m    706\u001b[0m elapsed \u001b[38;5;241m=\u001b[39m preferred_clock() \u001b[38;5;241m-\u001b[39m start\n",
      "File \u001b[0;32m~/.local/lib/python3.10/site-packages/requests/adapters.py:486\u001b[0m, in \u001b[0;36mHTTPAdapter.send\u001b[0;34m(self, request, stream, timeout, verify, cert, proxies)\u001b[0m\n\u001b[1;32m    483\u001b[0m     timeout \u001b[38;5;241m=\u001b[39m TimeoutSauce(connect\u001b[38;5;241m=\u001b[39mtimeout, read\u001b[38;5;241m=\u001b[39mtimeout)\n\u001b[1;32m    485\u001b[0m \u001b[38;5;28;01mtry\u001b[39;00m:\n\u001b[0;32m--> 486\u001b[0m     resp \u001b[38;5;241m=\u001b[39m \u001b[43mconn\u001b[49m\u001b[38;5;241;43m.\u001b[39;49m\u001b[43murlopen\u001b[49m\u001b[43m(\u001b[49m\n\u001b[1;32m    487\u001b[0m \u001b[43m        \u001b[49m\u001b[43mmethod\u001b[49m\u001b[38;5;241;43m=\u001b[39;49m\u001b[43mrequest\u001b[49m\u001b[38;5;241;43m.\u001b[39;49m\u001b[43mmethod\u001b[49m\u001b[43m,\u001b[49m\n\u001b[1;32m    488\u001b[0m \u001b[43m        \u001b[49m\u001b[43murl\u001b[49m\u001b[38;5;241;43m=\u001b[39;49m\u001b[43murl\u001b[49m\u001b[43m,\u001b[49m\n\u001b[1;32m    489\u001b[0m \u001b[43m        \u001b[49m\u001b[43mbody\u001b[49m\u001b[38;5;241;43m=\u001b[39;49m\u001b[43mrequest\u001b[49m\u001b[38;5;241;43m.\u001b[39;49m\u001b[43mbody\u001b[49m\u001b[43m,\u001b[49m\n\u001b[1;32m    490\u001b[0m \u001b[43m        \u001b[49m\u001b[43mheaders\u001b[49m\u001b[38;5;241;43m=\u001b[39;49m\u001b[43mrequest\u001b[49m\u001b[38;5;241;43m.\u001b[39;49m\u001b[43mheaders\u001b[49m\u001b[43m,\u001b[49m\n\u001b[1;32m    491\u001b[0m \u001b[43m        \u001b[49m\u001b[43mredirect\u001b[49m\u001b[38;5;241;43m=\u001b[39;49m\u001b[38;5;28;43;01mFalse\u001b[39;49;00m\u001b[43m,\u001b[49m\n\u001b[1;32m    492\u001b[0m \u001b[43m        \u001b[49m\u001b[43massert_same_host\u001b[49m\u001b[38;5;241;43m=\u001b[39;49m\u001b[38;5;28;43;01mFalse\u001b[39;49;00m\u001b[43m,\u001b[49m\n\u001b[1;32m    493\u001b[0m \u001b[43m        \u001b[49m\u001b[43mpreload_content\u001b[49m\u001b[38;5;241;43m=\u001b[39;49m\u001b[38;5;28;43;01mFalse\u001b[39;49;00m\u001b[43m,\u001b[49m\n\u001b[1;32m    494\u001b[0m \u001b[43m        \u001b[49m\u001b[43mdecode_content\u001b[49m\u001b[38;5;241;43m=\u001b[39;49m\u001b[38;5;28;43;01mFalse\u001b[39;49;00m\u001b[43m,\u001b[49m\n\u001b[1;32m    495\u001b[0m \u001b[43m        \u001b[49m\u001b[43mretries\u001b[49m\u001b[38;5;241;43m=\u001b[39;49m\u001b[38;5;28;43mself\u001b[39;49m\u001b[38;5;241;43m.\u001b[39;49m\u001b[43mmax_retries\u001b[49m\u001b[43m,\u001b[49m\n\u001b[1;32m    496\u001b[0m \u001b[43m        \u001b[49m\u001b[43mtimeout\u001b[49m\u001b[38;5;241;43m=\u001b[39;49m\u001b[43mtimeout\u001b[49m\u001b[43m,\u001b[49m\n\u001b[1;32m    497\u001b[0m \u001b[43m        \u001b[49m\u001b[43mchunked\u001b[49m\u001b[38;5;241;43m=\u001b[39;49m\u001b[43mchunked\u001b[49m\u001b[43m,\u001b[49m\n\u001b[1;32m    498\u001b[0m \u001b[43m    \u001b[49m\u001b[43m)\u001b[49m\n\u001b[1;32m    500\u001b[0m \u001b[38;5;28;01mexcept\u001b[39;00m (ProtocolError, \u001b[38;5;167;01mOSError\u001b[39;00m) \u001b[38;5;28;01mas\u001b[39;00m err:\n\u001b[1;32m    501\u001b[0m     \u001b[38;5;28;01mraise\u001b[39;00m \u001b[38;5;167;01mConnectionError\u001b[39;00m(err, request\u001b[38;5;241m=\u001b[39mrequest)\n",
      "File \u001b[0;32m/usr/lib/python3/dist-packages/urllib3/connectionpool.py:700\u001b[0m, in \u001b[0;36mHTTPConnectionPool.urlopen\u001b[0;34m(self, method, url, body, headers, retries, redirect, assert_same_host, timeout, pool_timeout, release_conn, chunked, body_pos, **response_kw)\u001b[0m\n\u001b[1;32m    697\u001b[0m     \u001b[38;5;28mself\u001b[39m\u001b[38;5;241m.\u001b[39m_prepare_proxy(conn)\n\u001b[1;32m    699\u001b[0m \u001b[38;5;66;03m# Make the request on the httplib connection object.\u001b[39;00m\n\u001b[0;32m--> 700\u001b[0m httplib_response \u001b[38;5;241m=\u001b[39m \u001b[38;5;28;43mself\u001b[39;49m\u001b[38;5;241;43m.\u001b[39;49m\u001b[43m_make_request\u001b[49m\u001b[43m(\u001b[49m\n\u001b[1;32m    701\u001b[0m \u001b[43m    \u001b[49m\u001b[43mconn\u001b[49m\u001b[43m,\u001b[49m\n\u001b[1;32m    702\u001b[0m \u001b[43m    \u001b[49m\u001b[43mmethod\u001b[49m\u001b[43m,\u001b[49m\n\u001b[1;32m    703\u001b[0m \u001b[43m    \u001b[49m\u001b[43murl\u001b[49m\u001b[43m,\u001b[49m\n\u001b[1;32m    704\u001b[0m \u001b[43m    \u001b[49m\u001b[43mtimeout\u001b[49m\u001b[38;5;241;43m=\u001b[39;49m\u001b[43mtimeout_obj\u001b[49m\u001b[43m,\u001b[49m\n\u001b[1;32m    705\u001b[0m \u001b[43m    \u001b[49m\u001b[43mbody\u001b[49m\u001b[38;5;241;43m=\u001b[39;49m\u001b[43mbody\u001b[49m\u001b[43m,\u001b[49m\n\u001b[1;32m    706\u001b[0m \u001b[43m    \u001b[49m\u001b[43mheaders\u001b[49m\u001b[38;5;241;43m=\u001b[39;49m\u001b[43mheaders\u001b[49m\u001b[43m,\u001b[49m\n\u001b[1;32m    707\u001b[0m \u001b[43m    \u001b[49m\u001b[43mchunked\u001b[49m\u001b[38;5;241;43m=\u001b[39;49m\u001b[43mchunked\u001b[49m\u001b[43m,\u001b[49m\n\u001b[1;32m    708\u001b[0m \u001b[43m\u001b[49m\u001b[43m)\u001b[49m\n\u001b[1;32m    710\u001b[0m \u001b[38;5;66;03m# If we're going to release the connection in ``finally:``, then\u001b[39;00m\n\u001b[1;32m    711\u001b[0m \u001b[38;5;66;03m# the response doesn't need to know about the connection. Otherwise\u001b[39;00m\n\u001b[1;32m    712\u001b[0m \u001b[38;5;66;03m# it will also try to release it and we'll have a double-release\u001b[39;00m\n\u001b[1;32m    713\u001b[0m \u001b[38;5;66;03m# mess.\u001b[39;00m\n\u001b[1;32m    714\u001b[0m response_conn \u001b[38;5;241m=\u001b[39m conn \u001b[38;5;28;01mif\u001b[39;00m \u001b[38;5;129;01mnot\u001b[39;00m release_conn \u001b[38;5;28;01melse\u001b[39;00m \u001b[38;5;28;01mNone\u001b[39;00m\n",
      "File \u001b[0;32m/usr/lib/python3/dist-packages/urllib3/connectionpool.py:383\u001b[0m, in \u001b[0;36mHTTPConnectionPool._make_request\u001b[0;34m(self, conn, method, url, timeout, chunked, **httplib_request_kw)\u001b[0m\n\u001b[1;32m    381\u001b[0m \u001b[38;5;66;03m# Trigger any extra validation we need to do.\u001b[39;00m\n\u001b[1;32m    382\u001b[0m \u001b[38;5;28;01mtry\u001b[39;00m:\n\u001b[0;32m--> 383\u001b[0m     \u001b[38;5;28;43mself\u001b[39;49m\u001b[38;5;241;43m.\u001b[39;49m\u001b[43m_validate_conn\u001b[49m\u001b[43m(\u001b[49m\u001b[43mconn\u001b[49m\u001b[43m)\u001b[49m\n\u001b[1;32m    384\u001b[0m \u001b[38;5;28;01mexcept\u001b[39;00m (SocketTimeout, BaseSSLError) \u001b[38;5;28;01mas\u001b[39;00m e:\n\u001b[1;32m    385\u001b[0m     \u001b[38;5;66;03m# Py2 raises this as a BaseSSLError, Py3 raises it as socket timeout.\u001b[39;00m\n\u001b[1;32m    386\u001b[0m     \u001b[38;5;28mself\u001b[39m\u001b[38;5;241m.\u001b[39m_raise_timeout(err\u001b[38;5;241m=\u001b[39me, url\u001b[38;5;241m=\u001b[39murl, timeout_value\u001b[38;5;241m=\u001b[39mconn\u001b[38;5;241m.\u001b[39mtimeout)\n",
      "File \u001b[0;32m/usr/lib/python3/dist-packages/urllib3/connectionpool.py:1017\u001b[0m, in \u001b[0;36mHTTPSConnectionPool._validate_conn\u001b[0;34m(self, conn)\u001b[0m\n\u001b[1;32m   1015\u001b[0m \u001b[38;5;66;03m# Force connect early to allow us to validate the connection.\u001b[39;00m\n\u001b[1;32m   1016\u001b[0m \u001b[38;5;28;01mif\u001b[39;00m \u001b[38;5;129;01mnot\u001b[39;00m \u001b[38;5;28mgetattr\u001b[39m(conn, \u001b[38;5;124m\"\u001b[39m\u001b[38;5;124msock\u001b[39m\u001b[38;5;124m\"\u001b[39m, \u001b[38;5;28;01mNone\u001b[39;00m):  \u001b[38;5;66;03m# AppEngine might not have  `.sock`\u001b[39;00m\n\u001b[0;32m-> 1017\u001b[0m     \u001b[43mconn\u001b[49m\u001b[38;5;241;43m.\u001b[39;49m\u001b[43mconnect\u001b[49m\u001b[43m(\u001b[49m\u001b[43m)\u001b[49m\n\u001b[1;32m   1019\u001b[0m \u001b[38;5;28;01mif\u001b[39;00m \u001b[38;5;129;01mnot\u001b[39;00m conn\u001b[38;5;241m.\u001b[39mis_verified:\n\u001b[1;32m   1020\u001b[0m     warnings\u001b[38;5;241m.\u001b[39mwarn(\n\u001b[1;32m   1021\u001b[0m         (\n\u001b[1;32m   1022\u001b[0m             \u001b[38;5;124m\"\u001b[39m\u001b[38;5;124mUnverified HTTPS request is being made to host \u001b[39m\u001b[38;5;124m'\u001b[39m\u001b[38;5;132;01m%s\u001b[39;00m\u001b[38;5;124m'\u001b[39m\u001b[38;5;124m. \u001b[39m\u001b[38;5;124m\"\u001b[39m\n\u001b[0;32m   (...)\u001b[0m\n\u001b[1;32m   1027\u001b[0m         InsecureRequestWarning,\n\u001b[1;32m   1028\u001b[0m     )\n",
      "File \u001b[0;32m/usr/lib/python3/dist-packages/urllib3/connection.py:353\u001b[0m, in \u001b[0;36mHTTPSConnection.connect\u001b[0;34m(self)\u001b[0m\n\u001b[1;32m    351\u001b[0m \u001b[38;5;28;01mdef\u001b[39;00m \u001b[38;5;21mconnect\u001b[39m(\u001b[38;5;28mself\u001b[39m):\n\u001b[1;32m    352\u001b[0m     \u001b[38;5;66;03m# Add certificate verification\u001b[39;00m\n\u001b[0;32m--> 353\u001b[0m     conn \u001b[38;5;241m=\u001b[39m \u001b[38;5;28;43mself\u001b[39;49m\u001b[38;5;241;43m.\u001b[39;49m\u001b[43m_new_conn\u001b[49m\u001b[43m(\u001b[49m\u001b[43m)\u001b[49m\n\u001b[1;32m    354\u001b[0m     hostname \u001b[38;5;241m=\u001b[39m \u001b[38;5;28mself\u001b[39m\u001b[38;5;241m.\u001b[39mhost\n\u001b[1;32m    355\u001b[0m     tls_in_tls \u001b[38;5;241m=\u001b[39m \u001b[38;5;28;01mFalse\u001b[39;00m\n",
      "File \u001b[0;32m/usr/lib/python3/dist-packages/urllib3/connection.py:169\u001b[0m, in \u001b[0;36mHTTPConnection._new_conn\u001b[0;34m(self)\u001b[0m\n\u001b[1;32m    166\u001b[0m     extra_kw[\u001b[38;5;124m\"\u001b[39m\u001b[38;5;124msocket_options\u001b[39m\u001b[38;5;124m\"\u001b[39m] \u001b[38;5;241m=\u001b[39m \u001b[38;5;28mself\u001b[39m\u001b[38;5;241m.\u001b[39msocket_options\n\u001b[1;32m    168\u001b[0m \u001b[38;5;28;01mtry\u001b[39;00m:\n\u001b[0;32m--> 169\u001b[0m     conn \u001b[38;5;241m=\u001b[39m \u001b[43mconnection\u001b[49m\u001b[38;5;241;43m.\u001b[39;49m\u001b[43mcreate_connection\u001b[49m\u001b[43m(\u001b[49m\n\u001b[1;32m    170\u001b[0m \u001b[43m        \u001b[49m\u001b[43m(\u001b[49m\u001b[38;5;28;43mself\u001b[39;49m\u001b[38;5;241;43m.\u001b[39;49m\u001b[43m_dns_host\u001b[49m\u001b[43m,\u001b[49m\u001b[43m \u001b[49m\u001b[38;5;28;43mself\u001b[39;49m\u001b[38;5;241;43m.\u001b[39;49m\u001b[43mport\u001b[49m\u001b[43m)\u001b[49m\u001b[43m,\u001b[49m\u001b[43m \u001b[49m\u001b[38;5;28;43mself\u001b[39;49m\u001b[38;5;241;43m.\u001b[39;49m\u001b[43mtimeout\u001b[49m\u001b[43m,\u001b[49m\u001b[43m \u001b[49m\u001b[38;5;241;43m*\u001b[39;49m\u001b[38;5;241;43m*\u001b[39;49m\u001b[43mextra_kw\u001b[49m\n\u001b[1;32m    171\u001b[0m \u001b[43m    \u001b[49m\u001b[43m)\u001b[49m\n\u001b[1;32m    173\u001b[0m \u001b[38;5;28;01mexcept\u001b[39;00m SocketTimeout:\n\u001b[1;32m    174\u001b[0m     \u001b[38;5;28;01mraise\u001b[39;00m ConnectTimeoutError(\n\u001b[1;32m    175\u001b[0m         \u001b[38;5;28mself\u001b[39m,\n\u001b[1;32m    176\u001b[0m         \u001b[38;5;124m\"\u001b[39m\u001b[38;5;124mConnection to \u001b[39m\u001b[38;5;132;01m%s\u001b[39;00m\u001b[38;5;124m timed out. (connect timeout=\u001b[39m\u001b[38;5;132;01m%s\u001b[39;00m\u001b[38;5;124m)\u001b[39m\u001b[38;5;124m\"\u001b[39m\n\u001b[1;32m    177\u001b[0m         \u001b[38;5;241m%\u001b[39m (\u001b[38;5;28mself\u001b[39m\u001b[38;5;241m.\u001b[39mhost, \u001b[38;5;28mself\u001b[39m\u001b[38;5;241m.\u001b[39mtimeout),\n\u001b[1;32m    178\u001b[0m     )\n",
      "File \u001b[0;32m/usr/lib/python3/dist-packages/urllib3/util/connection.py:86\u001b[0m, in \u001b[0;36mcreate_connection\u001b[0;34m(address, timeout, source_address, socket_options)\u001b[0m\n\u001b[1;32m     84\u001b[0m     \u001b[38;5;28;01mif\u001b[39;00m source_address:\n\u001b[1;32m     85\u001b[0m         sock\u001b[38;5;241m.\u001b[39mbind(source_address)\n\u001b[0;32m---> 86\u001b[0m     \u001b[43msock\u001b[49m\u001b[38;5;241;43m.\u001b[39;49m\u001b[43mconnect\u001b[49m\u001b[43m(\u001b[49m\u001b[43msa\u001b[49m\u001b[43m)\u001b[49m\n\u001b[1;32m     87\u001b[0m     \u001b[38;5;28;01mreturn\u001b[39;00m sock\n\u001b[1;32m     89\u001b[0m \u001b[38;5;28;01mexcept\u001b[39;00m socket\u001b[38;5;241m.\u001b[39merror \u001b[38;5;28;01mas\u001b[39;00m e:\n",
      "\u001b[0;31mKeyboardInterrupt\u001b[0m: "
     ]
    }
   ],
   "source": [
    "alignment_annotations = oxl.get_alignment_annotations(\n",
    "    download_dir=\"~/.objaverse\" # default download directory\n",
    ")\n",
    "alignment_annotations"
   ]
  },
  {
   "cell_type": "code",
   "execution_count": null,
   "metadata": {},
   "outputs": [],
   "source": [
    "alignment_annotations"
   ]
  },
  {
   "cell_type": "code",
   "execution_count": 16,
   "metadata": {},
   "outputs": [
    {
     "data": {
      "text/html": [
       "<div>\n",
       "<style scoped>\n",
       "    .dataframe tbody tr th:only-of-type {\n",
       "        vertical-align: middle;\n",
       "    }\n",
       "\n",
       "    .dataframe tbody tr th {\n",
       "        vertical-align: top;\n",
       "    }\n",
       "\n",
       "    .dataframe thead th {\n",
       "        text-align: right;\n",
       "    }\n",
       "</style>\n",
       "<table border=\"1\" class=\"dataframe\">\n",
       "  <thead>\n",
       "    <tr style=\"text-align: right;\">\n",
       "      <th></th>\n",
       "      <th>fileIdentifier</th>\n",
       "      <th>source</th>\n",
       "      <th>license</th>\n",
       "      <th>fileType</th>\n",
       "      <th>sha256</th>\n",
       "      <th>metadata</th>\n",
       "    </tr>\n",
       "  </thead>\n",
       "  <tbody>\n",
       "    <tr>\n",
       "      <th>0</th>\n",
       "      <td>https://github.com/GameGC/Testovoe-SPB-Git/blo...</td>\n",
       "      <td>github</td>\n",
       "      <td>None</td>\n",
       "      <td>obj</td>\n",
       "      <td>fca3990d6d91e110cb920aa3da1a84e54b4a00cde7ad1e...</td>\n",
       "      <td>{}</td>\n",
       "    </tr>\n",
       "    <tr>\n",
       "      <th>1</th>\n",
       "      <td>https://github.com/9-zzz/RitualRex-GGJ2016/blo...</td>\n",
       "      <td>github</td>\n",
       "      <td>None</td>\n",
       "      <td>blend</td>\n",
       "      <td>09dc2689b8d0510885e19a7b525ee44709849d2601add8...</td>\n",
       "      <td>{}</td>\n",
       "    </tr>\n",
       "    <tr>\n",
       "      <th>2</th>\n",
       "      <td>https://github.com/mattoverby/mesh-data/blob/2...</td>\n",
       "      <td>github</td>\n",
       "      <td>MIT License</td>\n",
       "      <td>obj</td>\n",
       "      <td>f9d17190b54b548c6a3e6feebe7b2951a9b8060c507874...</td>\n",
       "      <td>{}</td>\n",
       "    </tr>\n",
       "    <tr>\n",
       "      <th>3</th>\n",
       "      <td>https://github.com/0010cha/data_origami/blob/0...</td>\n",
       "      <td>github</td>\n",
       "      <td>MIT License</td>\n",
       "      <td>ply</td>\n",
       "      <td>f25184898312af8ed5e77cfe675d2251c9893ac5ccc3a1...</td>\n",
       "      <td>{}</td>\n",
       "    </tr>\n",
       "    <tr>\n",
       "      <th>4</th>\n",
       "      <td>https://github.com/Xrvitd/Point2Skeleton_withC...</td>\n",
       "      <td>github</td>\n",
       "      <td>MIT License</td>\n",
       "      <td>ply</td>\n",
       "      <td>d721e6b1b97a83d1f6700045efcb478a1db4686b0571f6...</td>\n",
       "      <td>{}</td>\n",
       "    </tr>\n",
       "    <tr>\n",
       "      <th>...</th>\n",
       "      <td>...</td>\n",
       "      <td>...</td>\n",
       "      <td>...</td>\n",
       "      <td>...</td>\n",
       "      <td>...</td>\n",
       "      <td>...</td>\n",
       "    </tr>\n",
       "    <tr>\n",
       "      <th>9767006</th>\n",
       "      <td>https://sketchfab.com/3d-models/cc2c9ac5149b40...</td>\n",
       "      <td>sketchfab</td>\n",
       "      <td>Creative Commons - Attribution</td>\n",
       "      <td>glb</td>\n",
       "      <td>76cc3e0343be2452fb7a1d8f6eb295f9067e859f353bb8...</td>\n",
       "      <td>{}</td>\n",
       "    </tr>\n",
       "    <tr>\n",
       "      <th>9767007</th>\n",
       "      <td>https://sketchfab.com/3d-models/48ad63b00c4448...</td>\n",
       "      <td>sketchfab</td>\n",
       "      <td>Creative Commons - Attribution</td>\n",
       "      <td>glb</td>\n",
       "      <td>15524e631cecaf3537bbbd9756a94ffa78b275ce77e683...</td>\n",
       "      <td>{}</td>\n",
       "    </tr>\n",
       "    <tr>\n",
       "      <th>9767008</th>\n",
       "      <td>https://sketchfab.com/3d-models/3f61c303139f4d...</td>\n",
       "      <td>sketchfab</td>\n",
       "      <td>Creative Commons - Attribution</td>\n",
       "      <td>glb</td>\n",
       "      <td>4b4a2c0e5f4bd89b15c9551c7c34c0083774ead2fb6354...</td>\n",
       "      <td>{}</td>\n",
       "    </tr>\n",
       "    <tr>\n",
       "      <th>9767009</th>\n",
       "      <td>https://sketchfab.com/3d-models/bc79ba06d75740...</td>\n",
       "      <td>sketchfab</td>\n",
       "      <td>Creative Commons - Attribution</td>\n",
       "      <td>glb</td>\n",
       "      <td>9e71bc509985344446e075bac884cd1a76c24b09f82217...</td>\n",
       "      <td>{}</td>\n",
       "    </tr>\n",
       "    <tr>\n",
       "      <th>9767010</th>\n",
       "      <td>https://sketchfab.com/3d-models/4d03e14ded2a4d...</td>\n",
       "      <td>sketchfab</td>\n",
       "      <td>Creative Commons - Attribution</td>\n",
       "      <td>glb</td>\n",
       "      <td>a4e94c097ffbad25e18f95a94ea5ed0daa102847e329c8...</td>\n",
       "      <td>{}</td>\n",
       "    </tr>\n",
       "  </tbody>\n",
       "</table>\n",
       "<p>9767011 rows × 6 columns</p>\n",
       "</div>"
      ],
      "text/plain": [
       "                                            fileIdentifier     source  \\\n",
       "0        https://github.com/GameGC/Testovoe-SPB-Git/blo...     github   \n",
       "1        https://github.com/9-zzz/RitualRex-GGJ2016/blo...     github   \n",
       "2        https://github.com/mattoverby/mesh-data/blob/2...     github   \n",
       "3        https://github.com/0010cha/data_origami/blob/0...     github   \n",
       "4        https://github.com/Xrvitd/Point2Skeleton_withC...     github   \n",
       "...                                                    ...        ...   \n",
       "9767006  https://sketchfab.com/3d-models/cc2c9ac5149b40...  sketchfab   \n",
       "9767007  https://sketchfab.com/3d-models/48ad63b00c4448...  sketchfab   \n",
       "9767008  https://sketchfab.com/3d-models/3f61c303139f4d...  sketchfab   \n",
       "9767009  https://sketchfab.com/3d-models/bc79ba06d75740...  sketchfab   \n",
       "9767010  https://sketchfab.com/3d-models/4d03e14ded2a4d...  sketchfab   \n",
       "\n",
       "                                license fileType  \\\n",
       "0                                  None      obj   \n",
       "1                                  None    blend   \n",
       "2                           MIT License      obj   \n",
       "3                           MIT License      ply   \n",
       "4                           MIT License      ply   \n",
       "...                                 ...      ...   \n",
       "9767006  Creative Commons - Attribution      glb   \n",
       "9767007  Creative Commons - Attribution      glb   \n",
       "9767008  Creative Commons - Attribution      glb   \n",
       "9767009  Creative Commons - Attribution      glb   \n",
       "9767010  Creative Commons - Attribution      glb   \n",
       "\n",
       "                                                    sha256 metadata  \n",
       "0        fca3990d6d91e110cb920aa3da1a84e54b4a00cde7ad1e...       {}  \n",
       "1        09dc2689b8d0510885e19a7b525ee44709849d2601add8...       {}  \n",
       "2        f9d17190b54b548c6a3e6feebe7b2951a9b8060c507874...       {}  \n",
       "3        f25184898312af8ed5e77cfe675d2251c9893ac5ccc3a1...       {}  \n",
       "4        d721e6b1b97a83d1f6700045efcb478a1db4686b0571f6...       {}  \n",
       "...                                                    ...      ...  \n",
       "9767006  76cc3e0343be2452fb7a1d8f6eb295f9067e859f353bb8...       {}  \n",
       "9767007  15524e631cecaf3537bbbd9756a94ffa78b275ce77e683...       {}  \n",
       "9767008  4b4a2c0e5f4bd89b15c9551c7c34c0083774ead2fb6354...       {}  \n",
       "9767009  9e71bc509985344446e075bac884cd1a76c24b09f82217...       {}  \n",
       "9767010  a4e94c097ffbad25e18f95a94ea5ed0daa102847e329c8...       {}  \n",
       "\n",
       "[9767011 rows x 6 columns]"
      ]
     },
     "execution_count": 16,
     "metadata": {},
     "output_type": "execute_result"
    }
   ],
   "source": [
    "annotations"
   ]
  },
  {
   "cell_type": "code",
   "execution_count": null,
   "metadata": {},
   "outputs": [],
   "source": []
  },
  {
   "cell_type": "code",
   "execution_count": null,
   "metadata": {},
   "outputs": [],
   "source": []
  },
  {
   "cell_type": "code",
   "execution_count": null,
   "metadata": {},
   "outputs": [],
   "source": []
  },
  {
   "cell_type": "code",
   "execution_count": null,
   "metadata": {},
   "outputs": [],
   "source": [
    "oxl.download_objects(\n",
    "    # Base parameters:\n",
    "    objects: pd.DataFrame,\n",
    "    download_dir: str = \"~/objaverse\",\n",
    "    processes: Optional[int] = 16,  # None => multiprocessing.cpu_count()\n",
    "\n",
    "    # optional callback functions:\n",
    "    handle_found_object: Optional[Callable] = None,\n",
    "    handle_modified_object: Optional[Callable] = None,\n",
    "    handle_missing_object: Optional[Callable] = None,\n",
    "\n",
    "    # GitHub specific:\n",
    "    save_repo_format: Optional[Literal[\"zip\", \"tar\", \"tar.gz\", \"files\"]] = None,\n",
    "    handle_new_object: Optional[Callable] = None,\n",
    ")"
   ]
  },
  {
   "cell_type": "markdown",
   "metadata": {
    "id": "QMgh8o7KQmK0"
   },
   "source": [
    "## Download Objects\n",
    "\n",
    "Downloading objects can be done through the `download_objects` function:\n",
    "\n",
    "```python\n",
    "oxl.download_objects(\n",
    "    # Base parameters:\n",
    "    objects: pd.DataFrame,\n",
    "    download_dir: str = \"~/.objaverse\",\n",
    "    processes: Optional[int] = None,  # None => multiprocessing.cpu_count()\n",
    "\n",
    "    # optional callback functions:\n",
    "    handle_found_object: Optional[Callable] = None,\n",
    "    handle_modified_object: Optional[Callable] = None,\n",
    "    handle_missing_object: Optional[Callable] = None,\n",
    "\n",
    "    # GitHub specific:\n",
    "    save_repo_format: Optional[Literal[\"zip\", \"tar\", \"tar.gz\", \"files\"]] = None,\n",
    "    handle_new_object: Optional[Callable] = None,\n",
    ")\n",
    "```\n",
    "\n",
    "The function supports several different types of parameters, which we've broken down into base parameters, callback functions, and GitHub specific parameters.\n",
    "\n",
    "**Base parameters.**\n",
    "b~/objaverse\n",
    "- `objects: pd.DataFrame` a pandas DataFrame the objects to download. Must have columns for the object \"fileIdentifier\", \"source\", and \"sha256\". Use the `oxl.get_annotations` function to get all objects as a DataFrame.\n",
    "- `download_dir: Optional[str] = \"~/.objaverse\"` specifies where to download the objects.\n",
    "\n",
    "    Thanks to fsspec, we support writing files to many file systems. To use it, simply use the prefix of your filesystem before the path. For example hdfs://, s3://, http://, gcs://, or ssh://. Some of these file systems require installing an additional package (for example s3fs for s3, gcsfs for gcs, fsspec/sshfs for ssh). Start [here](https://github.com/rom1504/img2dataset#file-system-support) for more details on fsspec.\n",
    "\n",
    "    If None, the objects will be deleted after they are downloaded. Defaults to \"~/.objaverse\".\n",
    "- `processes: Optional[int] = None` number of processes to use when downloading the objects. If None, it will use the number of CPUs on the machine (which comes from `multiprocessing.cpu_count()`). Defaults to None.\n",
    "\n",
    "**Callback function parameters.**\n",
    "The function also supports several callback functions, which are called right after an object is locally downloaded. Common use cases for these callback functions may ibnclude downloading objects on the fly and processing them with Blender, rendering them, then discarding them. The specific callback functions include:\n",
    "\n",
    "- `handle_found_object: Optional[Callable] = None` is called when an object is successfully found and downloaded. Here, the object has the same sha256 as the one that was downloaded with Objaverse-XL. If None, the object will be downloaded, but nothing will be done with it.\n",
    "\n",
    "  Parameters for the function must include:\n",
    "    - `local_path: str` Local path to the downloaded 3D object.\n",
    "    - `file_identifier: str` File identifier of the 3D object.\n",
    "    - `sha256: str` sha256 of the contents of the 3D object.\n",
    "    - `metadata: Dict[Hashable, Any]` Metadata about the 3D object, such as the GitHub organization and repo name.\n",
    "\n",
    "  The return of the function is not used.\n",
    "\n",
    "- `handle_modified_object: Optional[Callable] = None` is called when a modified object is found and downloaded. Here, the object is successfully downloaded, but it has a different sha256 than the one that was downloaded with Objaverse-XL. This is not expected to happen very often, because the same commit hash is used for each repo. If None, the object will be downloaded, but nothing will be done with it.\n",
    "\n",
    "    Parameters for the function must include:\n",
    "    - `local_path: str` Local path to the downloaded 3D object.\n",
    "    - `file_identifier: str` File identifier of the 3D object.\n",
    "    - `new_sha256: str` sha256 of the contents of the newly downloaded 3D object.\n",
    "    - `old_sha256: str` Provided sha256 representing the contents of the 3D object as it was originally intended to be downloaded (coming from the `objects` argument).\n",
    "    - `metadata: Dict[Hashable, Any]` Metadata about the 3D object, such as the GitHub organization and repo name.\n",
    "\n",
    "  The return of the function is not used.\n",
    "\n",
    "- `handle_missing_object: Optional[Callable] = None` is called when a specified object cannot be found. Here, it is likely that the object was deleted or the repository was deleted or renamed. If None, nothing will be done with the missing object.\n",
    "\n",
    "    Parameters for the function must include:\n",
    "    - `file_identifier: str` File identifier of the 3D object.\n",
    "    - `sha256: str` Provided sha256 representing the contents of the 3D object as it was originally intended to be downloaded (coming from the `objects` argument).\n",
    "    - `metadata: Dict[Hashable, Any]` Metadata about the 3D object, which is particular to the source.\n",
    "\n",
    "  The return of the function is not used.\n",
    "\n",
    "**GitHub specific parameters.** There are several parameters that are only used when downloading objects from GitHub. These parameters can still be passed in when downloading objects from other sources, but they will not be used. These parameters include:handle_found_objecthandle_found_object\n",
    "\n",
    "- `save_repo_format: Optional[Literal[\"zip\", \"tar\", \"tar.gz\", \"files\"]] = None` specifies the format to save the GitHub repository. Unlike other sources, GitHub objects are not standalone 3D files, and may link to other assets, such as textures. If None, the repository will not be saved. If \"files\" is specified, each file will be saved individually in a standard folder structure. Otherwise, the repository can be saved as a \"zip\", \"tar\", or \"tar.gz\" file. Defaults to None.\n",
    "\n",
    "- `handle_new_object: Optional[Callable]` is called when a new object is found. Here, the object is not used in Objaverse-XL, but is still downloaded as part of the repository. Note that the object may have not been used because it does not successfully import into Blender. If None, the object will be downloaded, but nothing will be done with it.\n",
    "\n",
    "    Parameters for the function must include:\n",
    "    - `local_path: str` Local path to the downloaded 3D object.\n",
    "    - `file_identifier: str` GitHub URL of the 3D object.\n",
    "    - `sha256: str` sha256 of the contents of the 3D object.\n",
    "    - `metadata: Dict[str, Any]` Metadata about the 3D object, such as the GitHub organization and repo names.\n",
    "\n",
    "  The return of the function is not used.\n",
    "\n",
    "\n",
    "The following is a minimal example of using `oxl.download_objects`:"
   ]
  },
  {
   "cell_type": "code",
   "execution_count": 12,
   "metadata": {
    "colab": {
     "base_uri": "https://localhost:8080/",
     "height": 368
    },
    "id": "SOK_pwa6QniO",
    "outputId": "fb447f63-8288-4be8-959e-b15d4b9c9c4c"
   },
   "outputs": [
    {
     "name": "stderr",
     "output_type": "stream",
     "text": [
      "/tmp/ipykernel_30804/4076521814.py:2: DeprecationWarning: DataFrameGroupBy.apply operated on the grouping columns. This behavior is deprecated, and in a future version of pandas the grouping columns will be excluded from the operation. Either pass `include_groups=False` to exclude the groupings or explicitly select the grouping columns after groupby to silence this warning.\n",
      "  sampled_df = annotations.groupby('source').apply(lambda x: x.sample(20)).reset_index(drop=True)\n"
     ]
    },
    {
     "data": {
      "text/html": [
       "<div>\n",
       "<style scoped>\n",
       "    .dataframe tbody tr th:only-of-type {\n",
       "        vertical-align: middle;\n",
       "    }\n",
       "\n",
       "    .dataframe tbody tr th {\n",
       "        vertical-align: top;\n",
       "    }\n",
       "\n",
       "    .dataframe thead th {\n",
       "        text-align: right;\n",
       "    }\n",
       "</style>\n",
       "<table border=\"1\" class=\"dataframe\">\n",
       "  <thead>\n",
       "    <tr style=\"text-align: right;\">\n",
       "      <th></th>\n",
       "      <th>fileIdentifier</th>\n",
       "      <th>source</th>\n",
       "      <th>license</th>\n",
       "      <th>fileType</th>\n",
       "      <th>sha256</th>\n",
       "      <th>metadata</th>\n",
       "    </tr>\n",
       "  </thead>\n",
       "  <tbody>\n",
       "    <tr>\n",
       "      <th>0</th>\n",
       "      <td>https://github.com/YorickBongaerts/GD3Exam/blo...</td>\n",
       "      <td>github</td>\n",
       "      <td>None</td>\n",
       "      <td>blend</td>\n",
       "      <td>38ab58a8d6b20b280f7c8a0f426b36ec42f8c8220141b5...</td>\n",
       "      <td>{}</td>\n",
       "    </tr>\n",
       "    <tr>\n",
       "      <th>1</th>\n",
       "      <td>https://github.com/PrabhjyotSinghGill/Periodic...</td>\n",
       "      <td>github</td>\n",
       "      <td>None</td>\n",
       "      <td>glb</td>\n",
       "      <td>6b0a3d8b40e1e1c49443888e197f87cbe2ee3c92f565d4...</td>\n",
       "      <td>{}</td>\n",
       "    </tr>\n",
       "    <tr>\n",
       "      <th>2</th>\n",
       "      <td>https://github.com/sarettak/3DCityReconstructi...</td>\n",
       "      <td>github</td>\n",
       "      <td>MIT License</td>\n",
       "      <td>ply</td>\n",
       "      <td>71e759e5a2c007ed040f09cb228fafa3bb72f18e769887...</td>\n",
       "      <td>{}</td>\n",
       "    </tr>\n",
       "    <tr>\n",
       "      <th>3</th>\n",
       "      <td>https://github.com/listik2808/MergeMiner/blob/...</td>\n",
       "      <td>github</td>\n",
       "      <td>None</td>\n",
       "      <td>blend</td>\n",
       "      <td>a7f6d80b9d2dfbf93e2adebb75607098596d96a0e926e1...</td>\n",
       "      <td>{}</td>\n",
       "    </tr>\n",
       "    <tr>\n",
       "      <th>4</th>\n",
       "      <td>https://github.com/sarettak/3DCityReconstructi...</td>\n",
       "      <td>github</td>\n",
       "      <td>MIT License</td>\n",
       "      <td>ply</td>\n",
       "      <td>c7ec5c21da23338d43c30259200835550af12af7b25244...</td>\n",
       "      <td>{}</td>\n",
       "    </tr>\n",
       "    <tr>\n",
       "      <th>...</th>\n",
       "      <td>...</td>\n",
       "      <td>...</td>\n",
       "      <td>...</td>\n",
       "      <td>...</td>\n",
       "      <td>...</td>\n",
       "      <td>...</td>\n",
       "    </tr>\n",
       "    <tr>\n",
       "      <th>75</th>\n",
       "      <td>https://thingiverse.com/thing:4686387/files?fi...</td>\n",
       "      <td>thingiverse</td>\n",
       "      <td>Creative Commons - Attribution</td>\n",
       "      <td>stl</td>\n",
       "      <td>88c585fa579429b7aac8cb8cc8285ced9b4e605d33bb28...</td>\n",
       "      <td>{\"filename\": \"Bauble_front.stl\"}</td>\n",
       "    </tr>\n",
       "    <tr>\n",
       "      <th>76</th>\n",
       "      <td>https://thingiverse.com/thing:1520644/files?fi...</td>\n",
       "      <td>thingiverse</td>\n",
       "      <td>Creative Commons - Attribution</td>\n",
       "      <td>stl</td>\n",
       "      <td>4b7b54f9ca96220dac8f3566ed0815e9e1a17713853907...</td>\n",
       "      <td>{\"filename\": \"Router_Table_Hose_Adaptor.STL\"}</td>\n",
       "    </tr>\n",
       "    <tr>\n",
       "      <th>77</th>\n",
       "      <td>https://thingiverse.com/thing:6206121/files?fi...</td>\n",
       "      <td>thingiverse</td>\n",
       "      <td>Creative Commons - Attribution</td>\n",
       "      <td>stl</td>\n",
       "      <td>e093d429b0bdc42b79d4769bcdd58df24c74e6d52f262e...</td>\n",
       "      <td>{\"filename\": \"knob_b.STL\"}</td>\n",
       "    </tr>\n",
       "    <tr>\n",
       "      <th>78</th>\n",
       "      <td>https://thingiverse.com/thing:5327848/files?fi...</td>\n",
       "      <td>thingiverse</td>\n",
       "      <td>Creative Commons - Attribution</td>\n",
       "      <td>stl</td>\n",
       "      <td>fc8e840d3dfff168b96d0fd8ae4b7cf698adaac724b869...</td>\n",
       "      <td>{\"filename\": \"20x20RightRounded.stl\"}</td>\n",
       "    </tr>\n",
       "    <tr>\n",
       "      <th>79</th>\n",
       "      <td>https://thingiverse.com/thing:5028748/files?fi...</td>\n",
       "      <td>thingiverse</td>\n",
       "      <td>Creative Commons - Attribution</td>\n",
       "      <td>stl</td>\n",
       "      <td>f4a56e134f55c8b993060b7d1c047ee3d23846ba2120a6...</td>\n",
       "      <td>{\"filename\": \"Placemat2.stl\"}</td>\n",
       "    </tr>\n",
       "  </tbody>\n",
       "</table>\n",
       "<p>80 rows × 6 columns</p>\n",
       "</div>"
      ],
      "text/plain": [
       "                                       fileIdentifier       source  \\\n",
       "0   https://github.com/YorickBongaerts/GD3Exam/blo...       github   \n",
       "1   https://github.com/PrabhjyotSinghGill/Periodic...       github   \n",
       "2   https://github.com/sarettak/3DCityReconstructi...       github   \n",
       "3   https://github.com/listik2808/MergeMiner/blob/...       github   \n",
       "4   https://github.com/sarettak/3DCityReconstructi...       github   \n",
       "..                                                ...          ...   \n",
       "75  https://thingiverse.com/thing:4686387/files?fi...  thingiverse   \n",
       "76  https://thingiverse.com/thing:1520644/files?fi...  thingiverse   \n",
       "77  https://thingiverse.com/thing:6206121/files?fi...  thingiverse   \n",
       "78  https://thingiverse.com/thing:5327848/files?fi...  thingiverse   \n",
       "79  https://thingiverse.com/thing:5028748/files?fi...  thingiverse   \n",
       "\n",
       "                           license fileType  \\\n",
       "0                             None    blend   \n",
       "1                             None      glb   \n",
       "2                      MIT License      ply   \n",
       "3                             None    blend   \n",
       "4                      MIT License      ply   \n",
       "..                             ...      ...   \n",
       "75  Creative Commons - Attribution      stl   \n",
       "76  Creative Commons - Attribution      stl   \n",
       "77  Creative Commons - Attribution      stl   \n",
       "78  Creative Commons - Attribution      stl   \n",
       "79  Creative Commons - Attribution      stl   \n",
       "\n",
       "                                               sha256  \\\n",
       "0   38ab58a8d6b20b280f7c8a0f426b36ec42f8c8220141b5...   \n",
       "1   6b0a3d8b40e1e1c49443888e197f87cbe2ee3c92f565d4...   \n",
       "2   71e759e5a2c007ed040f09cb228fafa3bb72f18e769887...   \n",
       "3   a7f6d80b9d2dfbf93e2adebb75607098596d96a0e926e1...   \n",
       "4   c7ec5c21da23338d43c30259200835550af12af7b25244...   \n",
       "..                                                ...   \n",
       "75  88c585fa579429b7aac8cb8cc8285ced9b4e605d33bb28...   \n",
       "76  4b7b54f9ca96220dac8f3566ed0815e9e1a17713853907...   \n",
       "77  e093d429b0bdc42b79d4769bcdd58df24c74e6d52f262e...   \n",
       "78  fc8e840d3dfff168b96d0fd8ae4b7cf698adaac724b869...   \n",
       "79  f4a56e134f55c8b993060b7d1c047ee3d23846ba2120a6...   \n",
       "\n",
       "                                         metadata  \n",
       "0                                              {}  \n",
       "1                                              {}  \n",
       "2                                              {}  \n",
       "3                                              {}  \n",
       "4                                              {}  \n",
       "..                                            ...  \n",
       "75               {\"filename\": \"Bauble_front.stl\"}  \n",
       "76  {\"filename\": \"Router_Table_Hose_Adaptor.STL\"}  \n",
       "77                     {\"filename\": \"knob_b.STL\"}  \n",
       "78          {\"filename\": \"20x20RightRounded.stl\"}  \n",
       "79                  {\"filename\": \"Placemat2.stl\"}  \n",
       "\n",
       "[80 rows x 6 columns]"
      ]
     },
     "execution_count": 12,
     "metadata": {},
     "output_type": "execute_result"
    }
   ],
   "source": [
    "# sample a single object from each source\n",
    "sampled_df = annotations.groupby('source').apply(lambda x: x.sample(20)).reset_index(drop=True)\n",
    "sampled_df"
   ]
  },
  {
   "cell_type": "code",
   "execution_count": 13,
   "metadata": {
    "colab": {
     "base_uri": "https://localhost:8080/"
    },
    "id": "WTJlXqx6vf_m",
    "outputId": "fb827183-475c-4c0b-94c2-edf925688d40"
   },
   "outputs": [
    {
     "name": "stderr",
     "output_type": "stream",
     "text": [
      "\u001b[32m2024-02-01 18:59:41.963\u001b[0m | \u001b[1mINFO    \u001b[0m | \u001b[36mobjaverse.xl.github\u001b[0m:\u001b[36mdownload_objects\u001b[0m:\u001b[36m602\u001b[0m - \u001b[1mProvided 16 repoIds with 20 objects to process.\u001b[0m\n",
      "\u001b[32m2024-02-01 18:59:41.964\u001b[0m | \u001b[1mINFO    \u001b[0m | \u001b[36mobjaverse.xl.github\u001b[0m:\u001b[36mdownload_objects\u001b[0m:\u001b[36m614\u001b[0m - \u001b[1mFound 16 repoIds not yet downloaded. Downloading now...\u001b[0m\n",
      "Grouping objects by repository: 100%|████████████████████████████████████████████████████████████████████████████████████████████████████████████████████████████████████████| 16/16 [00:00<00:00, 7806.08it/s]\n",
      "Handling 3D object files: 100%|████████████████████████████████████████████████████████████████████████████████████████████████████████████████████████████████████████████| 212/212 [00:00<00:00, 8420.46it/s]\n",
      "Handling 3D object files: 100%|█████████████████████████████████████████████████████████████████████████████████████████████████████████████████████████████████████████████| 22/22 [00:00<00:00, 18510.47it/s]\n",
      "Handling 3D object files: 100%|█████████████████████████████████████████████████████████████████████████████████████████████████████████████████████████████████████████████| 28/28 [00:00<00:00, 13508.23it/s]\n",
      "Handling 3D object files: 100%|███████████████████████████████████████████████████████████████████████████████████████████████████████████████████████████████████████████████| 43/43 [00:00<00:00, 607.41it/s]\n",
      "Handling 3D object files: 100%|█████████████████████████████████████████████████████████████████████████████████████████████████████████████████████████████████████████████| 16/16 [00:00<00:00, 10744.29it/s]\n",
      "Handling 3D object files: 100%|████████████████████████████████████████████████████████████████████████████████████████████████████████████████████████████████████████████| 156/156 [00:00<00:00, 2583.62it/s]\n",
      "Handling 3D object files: 100%|███████████████████████████████████████████████████████████████████████████████████████████████████████████████████████████████████████████████| 14/14 [00:00<00:00, 188.82it/s]\n",
      "Handling 3D object files: 100%|████████████████████████████████████████████████████████████████████████████████████████████████████████████████████████████████████████████| 233/233 [00:00<00:00, 3105.90it/s]\n",
      "Handling 3D object files: 100%|████████████████████████████████████████████████████████████████████████████████████████████████████████████████████████████████████| 465151/465151 [00:03<00:00, 124081.88it/s]\n",
      "Handling 3D object files: 100%|█████████████████████████████████████████████████████████████████████████████████████████████████████████████████████████████████████████████| 118/118 [00:00<00:00, 607.14it/s]\n",
      "Handling 3D object files: 100%|████████████████████████████████████████████████████████████████████████████████████████████████████████████████████████████████████| 563728/563728 [00:03<00:00, 150239.98it/s]\n",
      "Handling 3D object files: 100%|████████████████████████████████████████████████████████████████████████████████████████████████████████████████████████████████████| 115643/115643 [00:01<00:00, 107487.91it/s]\n",
      "Handling 3D object files: 100%|██████████████████████████████████████████████████████████████████████████████████████████████████████████████████████████████████████████| 6430/6430 [00:02<00:00, 2351.32it/s]\n",
      "Downloading repositories:  81%|█████████████████████████████████████████████████████████████████████████████████████████████████████████████████████                           | 13/16 [03:56<01:02, 20.95s/it]git: 'lfs' is not a git command. See 'git --help'.\n",
      "\n",
      "The most similar command is\n",
      "\tlog\n",
      "Downloading repositories:  81%|█████████████████████████████████████████████████████████████████████████████████████████████████████████████████████                           | 13/16 [04:34<01:03, 21.15s/it]\n"
     ]
    },
    {
     "ename": "CalledProcessError",
     "evalue": "Command '['git', 'lfs', 'pull']' returned non-zero exit status 1.",
     "output_type": "error",
     "traceback": [
      "\u001b[0;31m---------------------------------------------------------------------------\u001b[0m",
      "\u001b[0;31mRemoteTraceback\u001b[0m                           Traceback (most recent call last)",
      "\u001b[0;31mRemoteTraceback\u001b[0m: \n\"\"\"\nTraceback (most recent call last):\n  File \"/usr/lib/python3.10/multiprocessing/pool.py\", line 125, in worker\n    result = (True, func(*args, **kwds))\n  File \"/home/sai/Desktop/objaverse-xl/objaverse/xl/github.py\", line 449, in _parallel_process_repo\n    return cls._process_repo(\n  File \"/home/sai/Desktop/objaverse-xl/objaverse/xl/github.py\", line 260, in _process_repo\n    cls._pull_lfs_files(target_directory)\n  File \"/home/sai/Desktop/objaverse-xl/objaverse/xl/github.py\", line 395, in _pull_lfs_files\n    subprocess.run([\"git\", \"lfs\", \"pull\"], cwd=repo_dir, check=True)\n  File \"/usr/lib/python3.10/subprocess.py\", line 526, in run\n    raise CalledProcessError(retcode, process.args,\nsubprocess.CalledProcessError: Command '['git', 'lfs', 'pull']' returned non-zero exit status 1.\n\"\"\"",
      "\nThe above exception was the direct cause of the following exception:\n",
      "\u001b[0;31mCalledProcessError\u001b[0m                        Traceback (most recent call last)",
      "Cell \u001b[0;32mIn[13], line 1\u001b[0m\n\u001b[0;32m----> 1\u001b[0m \u001b[43moxl\u001b[49m\u001b[38;5;241;43m.\u001b[39;49m\u001b[43mdownload_objects\u001b[49m\u001b[43m(\u001b[49m\u001b[43mobjects\u001b[49m\u001b[38;5;241;43m=\u001b[39;49m\u001b[43msampled_df\u001b[49m\u001b[43m)\u001b[49m\n",
      "File \u001b[0;32m~/Desktop/objaverse-xl/objaverse/xl/__init__.py:147\u001b[0m, in \u001b[0;36mdownload_objects\u001b[0;34m(objects, download_dir, processes, handle_found_object, handle_modified_object, handle_missing_object, **kwargs)\u001b[0m\n\u001b[1;32m    145\u001b[0m downloaded_objects \u001b[38;5;241m=\u001b[39m {}\n\u001b[1;32m    146\u001b[0m \u001b[38;5;28;01mfor\u001b[39;00m source \u001b[38;5;129;01min\u001b[39;00m sources:\n\u001b[0;32m--> 147\u001b[0m     source_downloads \u001b[38;5;241m=\u001b[39m \u001b[43mdownloaders\u001b[49m\u001b[43m[\u001b[49m\u001b[43msource\u001b[49m\u001b[43m]\u001b[49m\u001b[38;5;241;43m.\u001b[39;49m\u001b[43mdownload_objects\u001b[49m\u001b[43m(\u001b[49m\n\u001b[1;32m    148\u001b[0m \u001b[43m        \u001b[49m\u001b[43mobjects\u001b[49m\u001b[43m[\u001b[49m\u001b[43mobjects\u001b[49m\u001b[43m[\u001b[49m\u001b[38;5;124;43m\"\u001b[39;49m\u001b[38;5;124;43msource\u001b[39;49m\u001b[38;5;124;43m\"\u001b[39;49m\u001b[43m]\u001b[49m\u001b[43m \u001b[49m\u001b[38;5;241;43m==\u001b[39;49m\u001b[43m \u001b[49m\u001b[43msource\u001b[49m\u001b[43m]\u001b[49m\u001b[43m,\u001b[49m\n\u001b[1;32m    149\u001b[0m \u001b[43m        \u001b[49m\u001b[43mdownload_dir\u001b[49m\u001b[43m,\u001b[49m\n\u001b[1;32m    150\u001b[0m \u001b[43m        \u001b[49m\u001b[43mprocesses\u001b[49m\u001b[43m,\u001b[49m\n\u001b[1;32m    151\u001b[0m \u001b[43m        \u001b[49m\u001b[43mhandle_found_object\u001b[49m\u001b[43m,\u001b[49m\n\u001b[1;32m    152\u001b[0m \u001b[43m        \u001b[49m\u001b[43mhandle_modified_object\u001b[49m\u001b[43m,\u001b[49m\n\u001b[1;32m    153\u001b[0m \u001b[43m        \u001b[49m\u001b[43mhandle_missing_object\u001b[49m\u001b[43m,\u001b[49m\n\u001b[1;32m    154\u001b[0m \u001b[43m        \u001b[49m\u001b[38;5;241;43m*\u001b[39;49m\u001b[38;5;241;43m*\u001b[39;49m\u001b[43mkwargs\u001b[49m\u001b[43m,\u001b[49m\n\u001b[1;32m    155\u001b[0m \u001b[43m    \u001b[49m\u001b[43m)\u001b[49m\n\u001b[1;32m    156\u001b[0m     downloaded_objects\u001b[38;5;241m.\u001b[39mupdate(source_downloads)\n\u001b[1;32m    158\u001b[0m \u001b[38;5;28;01mreturn\u001b[39;00m downloaded_objects\n",
      "File \u001b[0;32m~/Desktop/objaverse-xl/objaverse/xl/github.py:647\u001b[0m, in \u001b[0;36mGitHubDownloader.download_objects\u001b[0;34m(cls, objects, download_dir, processes, handle_found_object, handle_modified_object, handle_missing_object, **kwargs)\u001b[0m\n\u001b[1;32m    630\u001b[0m all_args \u001b[38;5;241m=\u001b[39m [\n\u001b[1;32m    631\u001b[0m     (\n\u001b[1;32m    632\u001b[0m         repo_id_hash,\n\u001b[0;32m   (...)\u001b[0m\n\u001b[1;32m    642\u001b[0m     \u001b[38;5;28;01mfor\u001b[39;00m repo_id_hash \u001b[38;5;129;01min\u001b[39;00m repo_id_hashes_to_download\n\u001b[1;32m    643\u001b[0m ]\n\u001b[1;32m    645\u001b[0m \u001b[38;5;28;01mwith\u001b[39;00m Pool(processes\u001b[38;5;241m=\u001b[39mprocesses) \u001b[38;5;28;01mas\u001b[39;00m pool:\n\u001b[1;32m    646\u001b[0m     \u001b[38;5;66;03m# use tqdm to show progress\u001b[39;00m\n\u001b[0;32m--> 647\u001b[0m     out \u001b[38;5;241m=\u001b[39m \u001b[38;5;28;43mlist\u001b[39;49m\u001b[43m(\u001b[49m\n\u001b[1;32m    648\u001b[0m \u001b[43m        \u001b[49m\u001b[43mtqdm\u001b[49m\u001b[43m(\u001b[49m\n\u001b[1;32m    649\u001b[0m \u001b[43m            \u001b[49m\u001b[43mpool\u001b[49m\u001b[38;5;241;43m.\u001b[39;49m\u001b[43mimap_unordered\u001b[49m\u001b[43m(\u001b[49m\u001b[38;5;28;43mcls\u001b[39;49m\u001b[38;5;241;43m.\u001b[39;49m\u001b[43m_parallel_process_repo\u001b[49m\u001b[43m,\u001b[49m\u001b[43m \u001b[49m\u001b[43mall_args\u001b[49m\u001b[43m)\u001b[49m\u001b[43m,\u001b[49m\n\u001b[1;32m    650\u001b[0m \u001b[43m            \u001b[49m\u001b[43mtotal\u001b[49m\u001b[38;5;241;43m=\u001b[39;49m\u001b[38;5;28;43mlen\u001b[39;49m\u001b[43m(\u001b[49m\u001b[43mall_args\u001b[49m\u001b[43m)\u001b[49m\u001b[43m,\u001b[49m\n\u001b[1;32m    651\u001b[0m \u001b[43m            \u001b[49m\u001b[43mdesc\u001b[49m\u001b[38;5;241;43m=\u001b[39;49m\u001b[38;5;124;43m\"\u001b[39;49m\u001b[38;5;124;43mDownloading repositories\u001b[39;49m\u001b[38;5;124;43m\"\u001b[39;49m\u001b[43m,\u001b[49m\n\u001b[1;32m    652\u001b[0m \u001b[43m        \u001b[49m\u001b[43m)\u001b[49m\n\u001b[1;32m    653\u001b[0m \u001b[43m    \u001b[49m\u001b[43m)\u001b[49m\n\u001b[1;32m    655\u001b[0m out_dict \u001b[38;5;241m=\u001b[39m {}\n\u001b[1;32m    656\u001b[0m \u001b[38;5;28;01mfor\u001b[39;00m x \u001b[38;5;129;01min\u001b[39;00m out:\n",
      "File \u001b[0;32m~/.local/lib/python3.10/site-packages/tqdm/std.py:1182\u001b[0m, in \u001b[0;36mtqdm.__iter__\u001b[0;34m(self)\u001b[0m\n\u001b[1;32m   1179\u001b[0m time \u001b[38;5;241m=\u001b[39m \u001b[38;5;28mself\u001b[39m\u001b[38;5;241m.\u001b[39m_time\n\u001b[1;32m   1181\u001b[0m \u001b[38;5;28;01mtry\u001b[39;00m:\n\u001b[0;32m-> 1182\u001b[0m     \u001b[38;5;28;01mfor\u001b[39;00m obj \u001b[38;5;129;01min\u001b[39;00m iterable:\n\u001b[1;32m   1183\u001b[0m         \u001b[38;5;28;01myield\u001b[39;00m obj\n\u001b[1;32m   1184\u001b[0m         \u001b[38;5;66;03m# Update and possibly print the progressbar.\u001b[39;00m\n\u001b[1;32m   1185\u001b[0m         \u001b[38;5;66;03m# Note: does not call self.update(1) for speed optimisation.\u001b[39;00m\n",
      "File \u001b[0;32m/usr/lib/python3.10/multiprocessing/pool.py:873\u001b[0m, in \u001b[0;36mIMapIterator.next\u001b[0;34m(self, timeout)\u001b[0m\n\u001b[1;32m    871\u001b[0m \u001b[38;5;28;01mif\u001b[39;00m success:\n\u001b[1;32m    872\u001b[0m     \u001b[38;5;28;01mreturn\u001b[39;00m value\n\u001b[0;32m--> 873\u001b[0m \u001b[38;5;28;01mraise\u001b[39;00m value\n",
      "\u001b[0;31mCalledProcessError\u001b[0m: Command '['git', 'lfs', 'pull']' returned non-zero exit status 1."
     ]
    }
   ],
   "source": [
    "oxl.download_objects(objects=sampled_df)"
   ]
  },
  {
   "cell_type": "markdown",
   "metadata": {
    "id": "BgIq6nc7_T4E"
   },
   "source": [
    "Great! As we can see, the objects were successfully downloaded. Note that the GitHub objects were not saved, since `save_repo_format` defaults to None, so they are not included in the output return.\n",
    "\n",
    "Next, we'll show an example using callback functions, which work well when downloading and processing GitHub objects.\n",
    "\n",
    "We'll start by removing the `~/.objaverse` directory to clear the cache of the objects that we just downloaded, so they'll be downloaded again from scratch. Otherwise, the objects will be cached and not downloaded for a 2nd time:"
   ]
  },
  {
   "cell_type": "code",
   "execution_count": 7,
   "metadata": {
    "id": "iedQMatWB8_C"
   },
   "outputs": [],
   "source": [
    "import shutil\n",
    "import os\n",
    "\n",
    "shutil.rmtree(os.path.expanduser(\"~/.objaverse\"), ignore_errors=True)"
   ]
  },
  {
   "cell_type": "markdown",
   "metadata": {
    "id": "PGTQU78WCQl2"
   },
   "source": [
    "And we'll define our `handle_found_object` function, which is called after an object is downloaded and has a sha256 that matches the one that we supplied:"
   ]
  },
  {
   "cell_type": "code",
   "execution_count": 8,
   "metadata": {
    "id": "gfLIKGTo_Koa"
   },
   "outputs": [],
   "source": [
    "from typing import Any, Dict, Hashable\n",
    "\n",
    "def handle_found_object(\n",
    "    local_path: str,\n",
    "    file_identifier: str,\n",
    "    sha256: str,\n",
    "    metadata: Dict[Hashable, Any]\n",
    ") -> None:\n",
    "    print(\"\\n\\n\\n---HANDLE_FOUND_OBJECT CALLED---\\n\",\n",
    "          f\"  {local_path=}\\n  {file_identifier=}\\n  {sha256=}\\n  {metadata=}\\n\\n\\n\")"
   ]
  },
  {
   "cell_type": "markdown",
   "metadata": {
    "id": "jCbvO89wBM0h"
   },
   "source": [
    "Now, after running the same function with the `handle_found_object` callback, we have:"
   ]
  },
  {
   "cell_type": "code",
   "execution_count": 10,
   "metadata": {
    "colab": {
     "base_uri": "https://localhost:8080/"
    },
    "id": "BW7v9PG9BMQJ",
    "outputId": "27193ae3-1bfb-4df5-81e4-c8be1853d57e"
   },
   "outputs": [
    {
     "ename": "NameError",
     "evalue": "name 'sampled_df' is not defined",
     "output_type": "error",
     "traceback": [
      "\u001b[0;31m---------------------------------------------------------------------------\u001b[0m",
      "\u001b[0;31mNameError\u001b[0m                                 Traceback (most recent call last)",
      "Cell \u001b[0;32mIn[10], line 2\u001b[0m\n\u001b[1;32m      1\u001b[0m oxl\u001b[38;5;241m.\u001b[39mdownload_objects(\n\u001b[0;32m----> 2\u001b[0m     objects\u001b[38;5;241m=\u001b[39m\u001b[43msampled_df\u001b[49m,\n\u001b[1;32m      3\u001b[0m     handle_found_object\u001b[38;5;241m=\u001b[39mhandle_found_object\n\u001b[1;32m      4\u001b[0m )\n",
      "\u001b[0;31mNameError\u001b[0m: name 'sampled_df' is not defined"
     ]
    }
   ],
   "source": [
    "oxl.download_objects(\n",
    "    objects=sampled_df,\n",
    "    handle_found_object=handle_found_object\n",
    ")"
   ]
  },
  {
   "cell_type": "markdown",
   "metadata": {
    "id": "CTKKLBeMCupZ"
   },
   "source": [
    "Notice that our custom `handle_found_object` function is called right after each object is locally downloaded!\n",
    "\n",
    "Next, for the `handle_modified_object` callback, let's change the sha256 of one of the objects and then try to download it:"
   ]
  },
  {
   "cell_type": "code",
   "execution_count": 9,
   "metadata": {
    "colab": {
     "base_uri": "https://localhost:8080/",
     "height": 348
    },
    "id": "0hrLiVQjLZUI",
    "outputId": "23c63dad-d95a-4231-d51a-c1be8f7daa14"
   },
   "outputs": [
    {
     "ename": "NameError",
     "evalue": "name 'sampled_df' is not defined",
     "output_type": "error",
     "traceback": [
      "\u001b[0;31m---------------------------------------------------------------------------\u001b[0m",
      "\u001b[0;31mNameError\u001b[0m                                 Traceback (most recent call last)",
      "Cell \u001b[0;32mIn[9], line 1\u001b[0m\n\u001b[0;32m----> 1\u001b[0m modified_df \u001b[38;5;241m=\u001b[39m \u001b[43msampled_df\u001b[49m\u001b[38;5;241m.\u001b[39mcopy()\n\u001b[1;32m      2\u001b[0m modified_df\u001b[38;5;241m.\u001b[39miloc[\u001b[38;5;241m0\u001b[39m][\u001b[38;5;124m\"\u001b[39m\u001b[38;5;124msha256\u001b[39m\u001b[38;5;124m\"\u001b[39m] \u001b[38;5;241m=\u001b[39m \u001b[38;5;124m\"\u001b[39m\u001b[38;5;124mmodified-sha256\u001b[39m\u001b[38;5;124m\"\u001b[39m\n\u001b[1;32m      3\u001b[0m modified_df\n",
      "\u001b[0;31mNameError\u001b[0m: name 'sampled_df' is not defined"
     ]
    }
   ],
   "source": [
    "modified_df = sampled_df.copy()\n",
    "modified_df.iloc[0][\"sha256\"] = \"modified-sha256\"\n",
    "modified_df"
   ]
  },
  {
   "cell_type": "code",
   "execution_count": null,
   "metadata": {
    "id": "qnZw-_PNBqen"
   },
   "outputs": [],
   "source": [
    "def handle_modified_object(\n",
    "    local_path: str,\n",
    "    file_identifier: str,\n",
    "    new_sha256: str,\n",
    "    old_sha256: str,\n",
    "    metadata: Dict[Hashable, Any],\n",
    ") -> None:\n",
    "    print(\"\\n\\n\\n---HANDLE_MODIFIED_OBJECT CALLED---\\n\",\n",
    "          f\"  {local_path=}\\n  {file_identifier=}\\n  {old_sha256=}\\n  {new_sha256}\\n  {metadata=}\\n\\n\\n\")"
   ]
  },
  {
   "cell_type": "code",
   "execution_count": null,
   "metadata": {
    "colab": {
     "base_uri": "https://localhost:8080/"
    },
    "id": "Qorlg72dLmZx",
    "outputId": "7f4961b9-51e9-4d5c-f852-b499fed1ce3e"
   },
   "outputs": [
    {
     "name": "stderr",
     "output_type": "stream",
     "text": [
      "\u001b[32m2023-09-18 07:50:53.958\u001b[0m | \u001b[1mINFO    \u001b[0m | \u001b[36mobjaverse.xl.thingiverse\u001b[0m:\u001b[36mdownload_objects\u001b[0m:\u001b[36m349\u001b[0m - \u001b[1mFound 0 Thingiverse objects downloaded\u001b[0m\n",
      "\u001b[32m2023-09-18 07:50:53.966\u001b[0m | \u001b[1mINFO    \u001b[0m | \u001b[36mobjaverse.xl.thingiverse\u001b[0m:\u001b[36mdownload_objects\u001b[0m:\u001b[36m355\u001b[0m - \u001b[1mDownloading 1 Thingiverse objects with processes=2\u001b[0m\n",
      "Downloading Thingiverse Objects:   0%|          | 0/1 [00:00<?, ?it/s]"
     ]
    },
    {
     "name": "stdout",
     "output_type": "stream",
     "text": [
      "\n",
      "\n",
      "\n",
      "---HANDLE_FOUND_OBJECT CALLED---\n",
      "   local_path='/tmp/tmpk6fuzfnd/thing-2476051-file-3993546.stl'\n",
      "  file_identifier='https://thingiverse.com/thing:2476051/files?fileId=3993546'\n",
      "  sha256='cd54cc784ac13962fd35ec1b0176e3b92025c546d09b597cc65a68554c33f38a'\n",
      "  metadata={}\n",
      "\n",
      "\n",
      "\n"
     ]
    },
    {
     "name": "stderr",
     "output_type": "stream",
     "text": [
      "Downloading Thingiverse Objects: 100%|██████████| 1/1 [00:00<00:00,  1.00it/s]\n",
      "\u001b[32m2023-09-18 07:50:55.973\u001b[0m | \u001b[1mINFO    \u001b[0m | \u001b[36mobjaverse.xl.smithsonian\u001b[0m:\u001b[36mdownload_objects\u001b[0m:\u001b[36m291\u001b[0m - \u001b[1mFound 0 Smithsonian Objects already downloaded\u001b[0m\n",
      "\u001b[32m2023-09-18 07:50:55.984\u001b[0m | \u001b[1mINFO    \u001b[0m | \u001b[36mobjaverse.xl.smithsonian\u001b[0m:\u001b[36mdownload_objects\u001b[0m:\u001b[36m294\u001b[0m - \u001b[1mDownloading 1 Smithsonian Objects with 2 processes\u001b[0m\n",
      "Downloading Smithsonian Objects:   0%|          | 0/1 [00:00<?, ?it/s]"
     ]
    },
    {
     "name": "stdout",
     "output_type": "stream",
     "text": [
      "\n",
      "\n",
      "\n",
      "---HANDLE_FOUND_OBJECT CALLED---\n",
      "   local_path='/tmp/tmp1bifc5a3/8b115234-8daf-57e6-ab9f-046049ebd6ae.glb'\n",
      "  file_identifier='https://3d-api.si.edu/content/document/3d_package:8bc6154d-b9bd-49b0-afb2-c3ae0460fbc4/USNM145305_cuneiform1_right_-300-150k-2048-medium.glb'\n",
      "  sha256='0653f8b8833aba153212e5a7d2795efbb563a0d4dd8559db80663deac9fc136b'\n",
      "  metadata={}\n",
      "\n",
      "\n",
      "\n"
     ]
    },
    {
     "name": "stderr",
     "output_type": "stream",
     "text": [
      "Downloading Smithsonian Objects: 100%|██████████| 1/1 [00:00<00:00,  1.54it/s]\n",
      "\u001b[32m2023-09-18 07:50:57.537\u001b[0m | \u001b[1mINFO    \u001b[0m | \u001b[36mobjaverse.xl.github\u001b[0m:\u001b[36mdownload_objects\u001b[0m:\u001b[36m553\u001b[0m - \u001b[1mProvided 1 repoIds with 1 objects to process.\u001b[0m\n",
      "\u001b[32m2023-09-18 07:50:57.547\u001b[0m | \u001b[1mINFO    \u001b[0m | \u001b[36mobjaverse.xl.github\u001b[0m:\u001b[36mdownload_objects\u001b[0m:\u001b[36m565\u001b[0m - \u001b[1mFound 1 repoIds not yet downloaded. Downloading now...\u001b[0m\n",
      "Grouping objects by repository: 100%|██████████| 1/1 [00:00<00:00, 1689.21it/s]\n",
      "Handling 3D object files:   0%|          | 0/30 [00:00<?, ?it/s]"
     ]
    },
    {
     "name": "stdout",
     "output_type": "stream",
     "text": [
      "\n",
      "\n",
      "\n",
      "---HANDLE_MODIFIED_OBJECT CALLED---\n",
      "   local_path='/tmp/tmpmck9h8ba/Starfall/resources/LUNA/new/lunaModelTextures/left_arm.obj'\n",
      "  file_identifier='https://github.com/Bob-Loth/Starfall/blob/ad1fe8abd144e2c5a84f270f58cc7bb5bda53c0e/resources/LUNA/new/lunaModelTextures/left_arm.obj'\n",
      "  old_sha256='modified-sha256'\n",
      "  00db44d195de4935b1663425773edbd6d335deb191c61d2c8d20ef51c56060f6\n",
      "  metadata={'github_organization': 'Bob-Loth', 'github_repo': 'Starfall'}\n",
      "\n",
      "\n",
      "\n"
     ]
    },
    {
     "name": "stderr",
     "output_type": "stream",
     "text": [
      "Handling 3D object files: 100%|██████████| 30/30 [00:00<00:00, 794.86it/s]\n",
      "Downloading repositories: 100%|██████████| 1/1 [00:06<00:00,  7.00s/it]\n",
      "\u001b[32m2023-09-18 07:51:07.473\u001b[0m | \u001b[1mINFO    \u001b[0m | \u001b[36mobjaverse.xl.sketchfab\u001b[0m:\u001b[36mdownload_objects\u001b[0m:\u001b[36m456\u001b[0m - \u001b[1mFound 0 objects already downloaded\u001b[0m\n",
      "\u001b[32m2023-09-18 07:51:07.477\u001b[0m | \u001b[1mINFO    \u001b[0m | \u001b[36mobjaverse.xl.sketchfab\u001b[0m:\u001b[36mdownload_objects\u001b[0m:\u001b[36m477\u001b[0m - \u001b[1mDownloading 1 new objects across 2 processes\u001b[0m\n",
      "  0%|          | 0/1 [00:00<?, ?it/s]"
     ]
    },
    {
     "name": "stdout",
     "output_type": "stream",
     "text": [
      "\n",
      "\n",
      "\n",
      "---HANDLE_FOUND_OBJECT CALLED---\n",
      "   local_path='/tmp/tmp30lfglxx/glbs/000-088/dcf1bd289bc646b0b190e1275396a638.glb'\n",
      "  file_identifier='https://sketchfab.com/3d-models/dcf1bd289bc646b0b190e1275396a638'\n",
      "  sha256='3a0da42ff5166592b91fc9d21f5bfbff773da51f3dcfb768b5b123410f4e477a'\n",
      "  metadata={}\n",
      "\n",
      "\n",
      "\n"
     ]
    },
    {
     "name": "stderr",
     "output_type": "stream",
     "text": [
      "100%|██████████| 1/1 [00:00<00:00,  3.69it/s]\n"
     ]
    },
    {
     "data": {
      "text/plain": [
       "{'https://thingiverse.com/thing:2476051/files?fileId=3993546': '/root/.objaverse/thingiverse/thing-2476051-file-3993546.stl',\n",
       " 'https://3d-api.si.edu/content/document/3d_package:8bc6154d-b9bd-49b0-afb2-c3ae0460fbc4/USNM145305_cuneiform1_right_-300-150k-2048-medium.glb': '/root/.objaverse/smithsonian/objects/8b115234-8daf-57e6-ab9f-046049ebd6ae.glb',\n",
       " 'https://sketchfab.com/3d-models/dcf1bd289bc646b0b190e1275396a638': '/root/.objaverse/hf-objaverse-v1/glbs/000-088/dcf1bd289bc646b0b190e1275396a638.glb'}"
      ]
     },
     "execution_count": 18,
     "metadata": {},
     "output_type": "execute_result"
    }
   ],
   "source": [
    "# remove previously downloaded objects\n",
    "shutil.rmtree(os.path.expanduser(\"~/.objaverse\"), ignore_errors=True)\n",
    "\n",
    "# redownload\n",
    "oxl.download_objects(\n",
    "    objects=modified_df,\n",
    "    handle_found_object=handle_found_object,\n",
    "    handle_modified_object=handle_modified_object  # <---------------\n",
    ")"
   ]
  },
  {
   "cell_type": "markdown",
   "metadata": {
    "id": "98DdsLdbRZ3c"
   },
   "source": [
    "Notice that `handle_found_object` was called 3 times and `handle_modified_object` was called once, for the object that has its sha256 modified!\n",
    "\n",
    "We'll do something similar to experiment with `handle_missing_object`, where we'll add modify the path of one of the objects to something that doesn't exist:"
   ]
  },
  {
   "cell_type": "code",
   "execution_count": null,
   "metadata": {
    "colab": {
     "base_uri": "https://localhost:8080/",
     "height": 386
    },
    "id": "MicUmnDaRXyJ",
    "outputId": "b5d84aaa-7bd1-4a81-c2b9-c010d79be2dc"
   },
   "outputs": [
    {
     "name": "stdout",
     "output_type": "stream",
     "text": [
      "https://sketchfab.com/3d-models/dcf1bd289bc646b0b190e1275396a638-i-do-not-exist\n"
     ]
    },
    {
     "data": {
      "text/html": [
       "\n",
       "  <div id=\"df-417e427c-db40-4975-bb01-3b0783f01b8d\" class=\"colab-df-container\">\n",
       "    <div>\n",
       "<style scoped>\n",
       "    .dataframe tbody tr th:only-of-type {\n",
       "        vertical-align: middle;\n",
       "    }\n",
       "\n",
       "    .dataframe tbody tr th {\n",
       "        vertical-align: top;\n",
       "    }\n",
       "\n",
       "    .dataframe thead th {\n",
       "        text-align: right;\n",
       "    }\n",
       "</style>\n",
       "<table border=\"1\" class=\"dataframe\">\n",
       "  <thead>\n",
       "    <tr style=\"text-align: right;\">\n",
       "      <th></th>\n",
       "      <th>fileIdentifier</th>\n",
       "      <th>source</th>\n",
       "      <th>license</th>\n",
       "      <th>fileType</th>\n",
       "      <th>sha256</th>\n",
       "      <th>metadata</th>\n",
       "    </tr>\n",
       "  </thead>\n",
       "  <tbody>\n",
       "    <tr>\n",
       "      <th>0</th>\n",
       "      <td>https://github.com/Bob-Loth/Starfall/blob/ad1f...</td>\n",
       "      <td>github</td>\n",
       "      <td>None</td>\n",
       "      <td>obj</td>\n",
       "      <td>00db44d195de4935b1663425773edbd6d335deb191c61d...</td>\n",
       "      <td>{}</td>\n",
       "    </tr>\n",
       "    <tr>\n",
       "      <th>1</th>\n",
       "      <td>https://sketchfab.com/3d-models/dcf1bd289bc646...</td>\n",
       "      <td>sketchfab</td>\n",
       "      <td>Creative Commons - Attribution</td>\n",
       "      <td>glb</td>\n",
       "      <td>3a0da42ff5166592b91fc9d21f5bfbff773da51f3dcfb7...</td>\n",
       "      <td>{}</td>\n",
       "    </tr>\n",
       "    <tr>\n",
       "      <th>2</th>\n",
       "      <td>https://3d-api.si.edu/content/document/3d_pack...</td>\n",
       "      <td>smithsonian</td>\n",
       "      <td>Creative Commons Zero v1.0 Universal</td>\n",
       "      <td>glb</td>\n",
       "      <td>0653f8b8833aba153212e5a7d2795efbb563a0d4dd8559...</td>\n",
       "      <td>{\"title\": \"Pongo pygmaeus: Cuneiform1 Right\"}</td>\n",
       "    </tr>\n",
       "    <tr>\n",
       "      <th>3</th>\n",
       "      <td>https://thingiverse.com/thing:2476051/files?fi...</td>\n",
       "      <td>thingiverse</td>\n",
       "      <td>Creative Commons - Attribution</td>\n",
       "      <td>stl</td>\n",
       "      <td>cd54cc784ac13962fd35ec1b0176e3b92025c546d09b59...</td>\n",
       "      <td>{\"filename\": \"Bottle_V3_1.stl\"}</td>\n",
       "    </tr>\n",
       "  </tbody>\n",
       "</table>\n",
       "</div>\n",
       "    <div class=\"colab-df-buttons\">\n",
       "\n",
       "  <div class=\"colab-df-container\">\n",
       "    <button class=\"colab-df-convert\" onclick=\"convertToInteractive('df-417e427c-db40-4975-bb01-3b0783f01b8d')\"\n",
       "            title=\"Convert this dataframe to an interactive table.\"\n",
       "            style=\"display:none;\">\n",
       "\n",
       "  <svg xmlns=\"http://www.w3.org/2000/svg\" height=\"24px\" viewBox=\"0 -960 960 960\">\n",
       "    <path d=\"M120-120v-720h720v720H120Zm60-500h600v-160H180v160Zm220 220h160v-160H400v160Zm0 220h160v-160H400v160ZM180-400h160v-160H180v160Zm440 0h160v-160H620v160ZM180-180h160v-160H180v160Zm440 0h160v-160H620v160Z\"/>\n",
       "  </svg>\n",
       "    </button>\n",
       "\n",
       "  <style>\n",
       "    .colab-df-container {\n",
       "      display:flex;\n",
       "      gap: 12px;\n",
       "    }\n",
       "\n",
       "    .colab-df-convert {\n",
       "      background-color: #E8F0FE;\n",
       "      border: none;\n",
       "      border-radius: 50%;\n",
       "      cursor: pointer;\n",
       "      display: none;\n",
       "      fill: #1967D2;\n",
       "      height: 32px;\n",
       "      padding: 0 0 0 0;\n",
       "      width: 32px;\n",
       "    }\n",
       "\n",
       "    .colab-df-convert:hover {\n",
       "      background-color: #E2EBFA;\n",
       "      box-shadow: 0px 1px 2px rgba(60, 64, 67, 0.3), 0px 1px 3px 1px rgba(60, 64, 67, 0.15);\n",
       "      fill: #174EA6;\n",
       "    }\n",
       "\n",
       "    .colab-df-buttons div {\n",
       "      margin-bottom: 4px;\n",
       "    }\n",
       "\n",
       "    [theme=dark] .colab-df-convert {\n",
       "      background-color: #3B4455;\n",
       "      fill: #D2E3FC;\n",
       "    }\n",
       "\n",
       "    [theme=dark] .colab-df-convert:hover {\n",
       "      background-color: #434B5C;\n",
       "      box-shadow: 0px 1px 3px 1px rgba(0, 0, 0, 0.15);\n",
       "      filter: drop-shadow(0px 1px 2px rgba(0, 0, 0, 0.3));\n",
       "      fill: #FFFFFF;\n",
       "    }\n",
       "  </style>\n",
       "\n",
       "    <script>\n",
       "      const buttonEl =\n",
       "        document.querySelector('#df-417e427c-db40-4975-bb01-3b0783f01b8d button.colab-df-convert');\n",
       "      buttonEl.style.display =\n",
       "        google.colab.kernel.accessAllowed ? 'block' : 'none';\n",
       "\n",
       "      async function convertToInteractive(key) {\n",
       "        const element = document.querySelector('#df-417e427c-db40-4975-bb01-3b0783f01b8d');\n",
       "        const dataTable =\n",
       "          await google.colab.kernel.invokeFunction('convertToInteractive',\n",
       "                                                    [key], {});\n",
       "        if (!dataTable) return;\n",
       "\n",
       "        const docLinkHtml = 'Like what you see? Visit the ' +\n",
       "          '<a target=\"_blank\" href=https://colab.research.google.com/notebooks/data_table.ipynb>data table notebook</a>'\n",
       "          + ' to learn more about interactive tables.';\n",
       "        element.innerHTML = '';\n",
       "        dataTable['output_type'] = 'display_data';\n",
       "        await google.colab.output.renderOutput(dataTable, element);\n",
       "        const docLink = document.createElement('div');\n",
       "        docLink.innerHTML = docLinkHtml;\n",
       "        element.appendChild(docLink);\n",
       "      }\n",
       "    </script>\n",
       "  </div>\n",
       "\n",
       "\n",
       "<div id=\"df-d1c2f50b-e485-41d8-b9b7-f1ba8e8a20b3\">\n",
       "  <button class=\"colab-df-quickchart\" onclick=\"quickchart('df-d1c2f50b-e485-41d8-b9b7-f1ba8e8a20b3')\"\n",
       "            title=\"Suggest charts.\"\n",
       "            style=\"display:none;\">\n",
       "\n",
       "<svg xmlns=\"http://www.w3.org/2000/svg\" height=\"24px\"viewBox=\"0 0 24 24\"\n",
       "     width=\"24px\">\n",
       "    <g>\n",
       "        <path d=\"M19 3H5c-1.1 0-2 .9-2 2v14c0 1.1.9 2 2 2h14c1.1 0 2-.9 2-2V5c0-1.1-.9-2-2-2zM9 17H7v-7h2v7zm4 0h-2V7h2v10zm4 0h-2v-4h2v4z\"/>\n",
       "    </g>\n",
       "</svg>\n",
       "  </button>\n",
       "\n",
       "<style>\n",
       "  .colab-df-quickchart {\n",
       "      --bg-color: #E8F0FE;\n",
       "      --fill-color: #1967D2;\n",
       "      --hover-bg-color: #E2EBFA;\n",
       "      --hover-fill-color: #174EA6;\n",
       "      --disabled-fill-color: #AAA;\n",
       "      --disabled-bg-color: #DDD;\n",
       "  }\n",
       "\n",
       "  [theme=dark] .colab-df-quickchart {\n",
       "      --bg-color: #3B4455;\n",
       "      --fill-color: #D2E3FC;\n",
       "      --hover-bg-color: #434B5C;\n",
       "      --hover-fill-color: #FFFFFF;\n",
       "      --disabled-bg-color: #3B4455;\n",
       "      --disabled-fill-color: #666;\n",
       "  }\n",
       "\n",
       "  .colab-df-quickchart {\n",
       "    background-color: var(--bg-color);\n",
       "    border: none;\n",
       "    border-radius: 50%;\n",
       "    cursor: pointer;\n",
       "    display: none;\n",
       "    fill: var(--fill-color);\n",
       "    height: 32px;\n",
       "    padding: 0;\n",
       "    width: 32px;\n",
       "  }\n",
       "\n",
       "  .colab-df-quickchart:hover {\n",
       "    background-color: var(--hover-bg-color);\n",
       "    box-shadow: 0 1px 2px rgba(60, 64, 67, 0.3), 0 1px 3px 1px rgba(60, 64, 67, 0.15);\n",
       "    fill: var(--button-hover-fill-color);\n",
       "  }\n",
       "\n",
       "  .colab-df-quickchart-complete:disabled,\n",
       "  .colab-df-quickchart-complete:disabled:hover {\n",
       "    background-color: var(--disabled-bg-color);\n",
       "    fill: var(--disabled-fill-color);\n",
       "    box-shadow: none;\n",
       "  }\n",
       "\n",
       "  .colab-df-spinner {\n",
       "    border: 2px solid var(--fill-color);\n",
       "    border-color: transparent;\n",
       "    border-bottom-color: var(--fill-color);\n",
       "    animation:\n",
       "      spin 1s steps(1) infinite;\n",
       "  }\n",
       "\n",
       "  @keyframes spin {\n",
       "    0% {\n",
       "      border-color: transparent;\n",
       "      border-bottom-color: var(--fill-color);\n",
       "      border-left-color: var(--fill-color);\n",
       "    }\n",
       "    20% {\n",
       "      border-color: transparent;\n",
       "      border-left-color: var(--fill-color);\n",
       "      border-top-color: var(--fill-color);\n",
       "    }\n",
       "    30% {\n",
       "      border-color: transparent;\n",
       "      border-left-color: var(--fill-color);\n",
       "      border-top-color: var(--fill-color);\n",
       "      border-right-color: var(--fill-color);\n",
       "    }\n",
       "    40% {\n",
       "      border-color: transparent;\n",
       "      border-right-color: var(--fill-color);\n",
       "      border-top-color: var(--fill-color);\n",
       "    }\n",
       "    60% {\n",
       "      border-color: transparent;\n",
       "      border-right-color: var(--fill-color);\n",
       "    }\n",
       "    80% {\n",
       "      border-color: transparent;\n",
       "      border-right-color: var(--fill-color);\n",
       "      border-bottom-color: var(--fill-color);\n",
       "    }\n",
       "    90% {\n",
       "      border-color: transparent;\n",
       "      border-bottom-color: var(--fill-color);\n",
       "    }\n",
       "  }\n",
       "</style>\n",
       "\n",
       "  <script>\n",
       "    async function quickchart(key) {\n",
       "      const quickchartButtonEl =\n",
       "        document.querySelector('#' + key + ' button');\n",
       "      quickchartButtonEl.disabled = true;  // To prevent multiple clicks.\n",
       "      quickchartButtonEl.classList.add('colab-df-spinner');\n",
       "      try {\n",
       "        const charts = await google.colab.kernel.invokeFunction(\n",
       "            'suggestCharts', [key], {});\n",
       "      } catch (error) {\n",
       "        console.error('Error during call to suggestCharts:', error);\n",
       "      }\n",
       "      quickchartButtonEl.classList.remove('colab-df-spinner');\n",
       "      quickchartButtonEl.classList.add('colab-df-quickchart-complete');\n",
       "    }\n",
       "    (() => {\n",
       "      let quickchartButtonEl =\n",
       "        document.querySelector('#df-d1c2f50b-e485-41d8-b9b7-f1ba8e8a20b3 button');\n",
       "      quickchartButtonEl.style.display =\n",
       "        google.colab.kernel.accessAllowed ? 'block' : 'none';\n",
       "    })();\n",
       "  </script>\n",
       "</div>\n",
       "    </div>\n",
       "  </div>\n"
      ],
      "text/plain": [
       "                                      fileIdentifier       source  \\\n",
       "0  https://github.com/Bob-Loth/Starfall/blob/ad1f...       github   \n",
       "1  https://sketchfab.com/3d-models/dcf1bd289bc646...    sketchfab   \n",
       "2  https://3d-api.si.edu/content/document/3d_pack...  smithsonian   \n",
       "3  https://thingiverse.com/thing:2476051/files?fi...  thingiverse   \n",
       "\n",
       "                                license fileType  \\\n",
       "0                                  None      obj   \n",
       "1        Creative Commons - Attribution      glb   \n",
       "2  Creative Commons Zero v1.0 Universal      glb   \n",
       "3        Creative Commons - Attribution      stl   \n",
       "\n",
       "                                              sha256  \\\n",
       "0  00db44d195de4935b1663425773edbd6d335deb191c61d...   \n",
       "1  3a0da42ff5166592b91fc9d21f5bfbff773da51f3dcfb7...   \n",
       "2  0653f8b8833aba153212e5a7d2795efbb563a0d4dd8559...   \n",
       "3  cd54cc784ac13962fd35ec1b0176e3b92025c546d09b59...   \n",
       "\n",
       "                                        metadata  \n",
       "0                                             {}  \n",
       "1                                             {}  \n",
       "2  {\"title\": \"Pongo pygmaeus: Cuneiform1 Right\"}  \n",
       "3                {\"filename\": \"Bottle_V3_1.stl\"}  "
      ]
     },
     "execution_count": 23,
     "metadata": {},
     "output_type": "execute_result"
    }
   ],
   "source": [
    "missing_df = sampled_df.copy()\n",
    "missing_df.iloc[1][\"fileIdentifier\"] += \"-i-do-not-exist\"\n",
    "\n",
    "print(missing_df.iloc[1][\"fileIdentifier\"])\n",
    "missing_df"
   ]
  },
  {
   "cell_type": "code",
   "execution_count": null,
   "metadata": {
    "id": "XZ9DbSWjLu31"
   },
   "outputs": [],
   "source": [
    "def handle_missing_object(\n",
    "    file_identifier: str,\n",
    "    sha256: str,\n",
    "    metadata: Dict[Hashable, Any]\n",
    ") -> None:\n",
    "    print(\"\\n\\n\\n---HANDLE_MISSING_OBJECT CALLED---\\n\",\n",
    "          f\"  {file_identifier=}\\n  {sha256=}\\n  {metadata=}\\n\\n\\n\")"
   ]
  },
  {
   "cell_type": "code",
   "execution_count": null,
   "metadata": {
    "colab": {
     "base_uri": "https://localhost:8080/"
    },
    "id": "MoauJlFiSQW-",
    "outputId": "62bfda6c-21c9-407e-95f9-7e74a252a426"
   },
   "outputs": [
    {
     "name": "stderr",
     "output_type": "stream",
     "text": [
      "\u001b[32m2023-09-18 07:55:42.802\u001b[0m | \u001b[1mINFO    \u001b[0m | \u001b[36mobjaverse.xl.thingiverse\u001b[0m:\u001b[36mdownload_objects\u001b[0m:\u001b[36m349\u001b[0m - \u001b[1mFound 0 Thingiverse objects downloaded\u001b[0m\n",
      "\u001b[32m2023-09-18 07:55:42.805\u001b[0m | \u001b[1mINFO    \u001b[0m | \u001b[36mobjaverse.xl.thingiverse\u001b[0m:\u001b[36mdownload_objects\u001b[0m:\u001b[36m355\u001b[0m - \u001b[1mDownloading 1 Thingiverse objects with processes=2\u001b[0m\n",
      "Downloading Thingiverse Objects:   0%|          | 0/1 [00:00<?, ?it/s]"
     ]
    },
    {
     "name": "stdout",
     "output_type": "stream",
     "text": [
      "\n",
      "\n",
      "\n",
      "---HANDLE_FOUND_OBJECT CALLED---\n",
      "   local_path='/tmp/tmp3xzsp9kg/thing-2476051-file-3993546.stl'\n",
      "  file_identifier='https://thingiverse.com/thing:2476051/files?fileId=3993546'\n",
      "  sha256='cd54cc784ac13962fd35ec1b0176e3b92025c546d09b597cc65a68554c33f38a'\n",
      "  metadata={}\n",
      "\n",
      "\n",
      "\n"
     ]
    },
    {
     "name": "stderr",
     "output_type": "stream",
     "text": [
      "Downloading Thingiverse Objects: 100%|██████████| 1/1 [00:00<00:00,  1.99it/s]\n",
      "\u001b[32m2023-09-18 07:55:43.625\u001b[0m | \u001b[1mINFO    \u001b[0m | \u001b[36mobjaverse.xl.smithsonian\u001b[0m:\u001b[36mdownload_objects\u001b[0m:\u001b[36m291\u001b[0m - \u001b[1mFound 0 Smithsonian Objects already downloaded\u001b[0m\n",
      "\u001b[32m2023-09-18 07:55:43.630\u001b[0m | \u001b[1mINFO    \u001b[0m | \u001b[36mobjaverse.xl.smithsonian\u001b[0m:\u001b[36mdownload_objects\u001b[0m:\u001b[36m294\u001b[0m - \u001b[1mDownloading 1 Smithsonian Objects with 2 processes\u001b[0m\n",
      "Downloading Smithsonian Objects:   0%|          | 0/1 [00:00<?, ?it/s]"
     ]
    },
    {
     "name": "stdout",
     "output_type": "stream",
     "text": [
      "\n",
      "\n",
      "\n",
      "---HANDLE_FOUND_OBJECT CALLED---\n",
      "   local_path='/tmp/tmp9q7zdf4n/8b115234-8daf-57e6-ab9f-046049ebd6ae.glb'\n",
      "  file_identifier='https://3d-api.si.edu/content/document/3d_package:8bc6154d-b9bd-49b0-afb2-c3ae0460fbc4/USNM145305_cuneiform1_right_-300-150k-2048-medium.glb'\n",
      "  sha256='0653f8b8833aba153212e5a7d2795efbb563a0d4dd8559db80663deac9fc136b'\n",
      "  metadata={}\n",
      "\n",
      "\n",
      "\n"
     ]
    },
    {
     "name": "stderr",
     "output_type": "stream",
     "text": [
      "Downloading Smithsonian Objects: 100%|██████████| 1/1 [00:00<00:00,  2.26it/s]\n",
      "\u001b[32m2023-09-18 07:55:44.328\u001b[0m | \u001b[1mINFO    \u001b[0m | \u001b[36mobjaverse.xl.github\u001b[0m:\u001b[36mdownload_objects\u001b[0m:\u001b[36m553\u001b[0m - \u001b[1mProvided 1 repoIds with 1 objects to process.\u001b[0m\n",
      "\u001b[32m2023-09-18 07:55:44.330\u001b[0m | \u001b[1mINFO    \u001b[0m | \u001b[36mobjaverse.xl.github\u001b[0m:\u001b[36mdownload_objects\u001b[0m:\u001b[36m565\u001b[0m - \u001b[1mFound 1 repoIds not yet downloaded. Downloading now...\u001b[0m\n",
      "Grouping objects by repository: 100%|██████████| 1/1 [00:00<00:00, 65.32it/s]\n",
      "Handling 3D object files:   0%|          | 0/30 [00:00<?, ?it/s]"
     ]
    },
    {
     "name": "stdout",
     "output_type": "stream",
     "text": [
      "\n",
      "\n",
      "\n",
      "---HANDLE_FOUND_OBJECT CALLED---\n",
      "   local_path='/tmp/tmpzijeglnl/Starfall/resources/LUNA/new/lunaModelTextures/left_arm.obj'\n",
      "  file_identifier='https://github.com/Bob-Loth/Starfall/blob/ad1fe8abd144e2c5a84f270f58cc7bb5bda53c0e/resources/LUNA/new/lunaModelTextures/left_arm.obj'\n",
      "  sha256='00db44d195de4935b1663425773edbd6d335deb191c61d2c8d20ef51c56060f6'\n",
      "  metadata={'github_organization': 'Bob-Loth', 'github_repo': 'Starfall'}\n",
      "\n",
      "\n",
      "\n"
     ]
    },
    {
     "name": "stderr",
     "output_type": "stream",
     "text": [
      "Handling 3D object files: 100%|██████████| 30/30 [00:00<00:00, 665.80it/s]\n",
      "Downloading repositories: 100%|██████████| 1/1 [00:06<00:00,  6.64s/it]\n",
      "\u001b[32m2023-09-18 07:55:53.514\u001b[0m | \u001b[1mINFO    \u001b[0m | \u001b[36mobjaverse.xl.sketchfab\u001b[0m:\u001b[36mdownload_objects\u001b[0m:\u001b[36m456\u001b[0m - \u001b[1mFound 0 objects already downloaded\u001b[0m\n",
      "\u001b[32m2023-09-18 07:55:53.518\u001b[0m | \u001b[31m\u001b[1mERROR   \u001b[0m | \u001b[36mobjaverse.xl.sketchfab\u001b[0m:\u001b[36mdownload_objects\u001b[0m:\u001b[36m465\u001b[0m - \u001b[31m\u001b[1mCould not find object with uid dcf1bd289bc646b0b190e1275396a638-i-do-not-exist. Skipping it.\u001b[0m\n",
      "\u001b[32m2023-09-18 07:55:53.522\u001b[0m | \u001b[1mINFO    \u001b[0m | \u001b[36mobjaverse.xl.sketchfab\u001b[0m:\u001b[36mdownload_objects\u001b[0m:\u001b[36m477\u001b[0m - \u001b[1mDownloading 0 new objects across 2 processes\u001b[0m\n"
     ]
    },
    {
     "name": "stdout",
     "output_type": "stream",
     "text": [
      "\n",
      "\n",
      "\n",
      "---HANDLE_MISSING_OBJECT CALLED---\n",
      "   file_identifier='https://sketchfab.com/3d-models/dcf1bd289bc646b0b190e1275396a638-i-do-not-exist'\n",
      "  sha256='3a0da42ff5166592b91fc9d21f5bfbff773da51f3dcfb768b5b123410f4e477a'\n",
      "  metadata={}\n",
      "\n",
      "\n",
      "\n"
     ]
    },
    {
     "data": {
      "text/plain": [
       "{'https://thingiverse.com/thing:2476051/files?fileId=3993546': '/root/.objaverse/thingiverse/thing-2476051-file-3993546.stl',\n",
       " 'https://3d-api.si.edu/content/document/3d_package:8bc6154d-b9bd-49b0-afb2-c3ae0460fbc4/USNM145305_cuneiform1_right_-300-150k-2048-medium.glb': '/root/.objaverse/smithsonian/objects/8b115234-8daf-57e6-ab9f-046049ebd6ae.glb'}"
      ]
     },
     "execution_count": 27,
     "metadata": {},
     "output_type": "execute_result"
    }
   ],
   "source": [
    "# remove previously downloaded objects\n",
    "shutil.rmtree(os.path.expanduser(\"~/.objaverse\"), ignore_errors=True)\n",
    "\n",
    "# redownload\n",
    "oxl.download_objects(\n",
    "    objects=missing_df,\n",
    "    handle_found_object=handle_found_object,\n",
    "    handle_modified_object=handle_modified_object,\n",
    "    handle_missing_object=handle_missing_object  # <---------------\n",
    ")"
   ]
  },
  {
   "cell_type": "markdown",
   "metadata": {
    "id": "rlx6sE-WSgYD"
   },
   "source": [
    "Great! Notice how we get an error that the object could not be found and that our `handle_missing_object` callback is called!\n",
    "\n",
    "Finally, we'll also add a callback for `handle_new_object`, which will be called for every object that is in the repository, but not in the objects that we supplied for it to expect to download:"
   ]
  },
  {
   "cell_type": "code",
   "execution_count": null,
   "metadata": {
    "id": "nbMLHudBS3q3"
   },
   "outputs": [],
   "source": [
    "def handle_new_object(\n",
    "    local_path: str,\n",
    "    file_identifier: str,\n",
    "    sha256: str,\n",
    "    metadata: Dict[Hashable, Any]\n",
    ") -> None:\n",
    "    print(\"\\n\\n\\n---HANDLE_NEW_OBJECT CALLED---\\n\",\n",
    "          f\"  {local_path=}\\n  {file_identifier=}\\n  {sha256=}\\n  {metadata=}\\n\\n\\n\")"
   ]
  },
  {
   "cell_type": "code",
   "execution_count": 11,
   "metadata": {
    "colab": {
     "base_uri": "https://localhost:8080/"
    },
    "id": "eXNk1_gSSXhI",
    "outputId": "f8c94d45-22b1-4d5f-ff85-6968a7fb6aca"
   },
   "outputs": [
    {
     "ename": "NameError",
     "evalue": "name 'sampled_df' is not defined",
     "output_type": "error",
     "traceback": [
      "\u001b[0;31m---------------------------------------------------------------------------\u001b[0m",
      "\u001b[0;31mNameError\u001b[0m                                 Traceback (most recent call last)",
      "Cell \u001b[0;32mIn[11], line 6\u001b[0m\n\u001b[1;32m      2\u001b[0m shutil\u001b[38;5;241m.\u001b[39mrmtree(os\u001b[38;5;241m.\u001b[39mpath\u001b[38;5;241m.\u001b[39mexpanduser(\u001b[38;5;124m\"\u001b[39m\u001b[38;5;124m~/.objaverse\u001b[39m\u001b[38;5;124m\"\u001b[39m), ignore_errors\u001b[38;5;241m=\u001b[39m\u001b[38;5;28;01mTrue\u001b[39;00m)\n\u001b[1;32m      4\u001b[0m \u001b[38;5;66;03m# redownload\u001b[39;00m\n\u001b[1;32m      5\u001b[0m oxl\u001b[38;5;241m.\u001b[39mdownload_objects(\n\u001b[0;32m----> 6\u001b[0m     objects\u001b[38;5;241m=\u001b[39m\u001b[43msampled_df\u001b[49m,\n\u001b[1;32m      7\u001b[0m     handle_found_object\u001b[38;5;241m=\u001b[39mhandle_found_object,\n\u001b[1;32m      8\u001b[0m     handle_modified_object\u001b[38;5;241m=\u001b[39mhandle_modified_object,\n\u001b[1;32m      9\u001b[0m     handle_missing_object\u001b[38;5;241m=\u001b[39mhandle_missing_object,\n\u001b[1;32m     10\u001b[0m     handle_new_object\u001b[38;5;241m=\u001b[39mhandle_new_object,  \u001b[38;5;66;03m# <---------------\u001b[39;00m\n\u001b[1;32m     11\u001b[0m )\n",
      "\u001b[0;31mNameError\u001b[0m: name 'sampled_df' is not defined"
     ]
    }
   ],
   "source": [
    "# remove previously downloaded objects\n",
    "shutil.rmtree(os.path.expanduser(\"~/.objaverse\"), ignore_errors=True)\n",
    "\n",
    "# redownload\n",
    "oxl.download_objects(\n",
    "    objects=sampled_df,\n",
    "    handle_found_object=handle_found_object,\n",
    "    handle_modified_object=handle_modified_object,\n",
    "    handle_missing_object=handle_missing_object,\n",
    "    handle_new_object=handle_new_object,  # <---------------\n",
    ")"
   ]
  },
  {
   "cell_type": "markdown",
   "metadata": {
    "id": "R34bokNcTJpU"
   },
   "source": [
    "Notice that `handle_new_object` gets called a bunch of times!\n",
    "\n",
    "For even more objects, one may want to experiment with using the latest Git commits, instead of the ones used with Objaverse-XL, as it'll likely lead to more objects being available. Here, `handle_new_object` would be quite a useful callback!"
   ]
  },
  {
   "cell_type": "markdown",
   "metadata": {
    "id": "LJCJ-cV1TmBy"
   },
   "source": [
    "## Next Steps\n",
    "\n",
    "Take a look at the [Blender rendering code](https://github.com/allenai/objaverse-xl/tree/main/scripts/rendering) for rendering Objaverse-XL objects in Blender and extracting metadata from the objects!"
   ]
  }
 ],
 "metadata": {
  "colab": {
   "provenance": [],
   "toc_visible": true
  },
  "kernelspec": {
   "display_name": "Python 3 (ipykernel)",
   "language": "python",
   "name": "python3"
  },
  "language_info": {
   "codemirror_mode": {
    "name": "ipython",
    "version": 3
   },
   "file_extension": ".py",
   "mimetype": "text/x-python",
   "name": "python",
   "nbconvert_exporter": "python",
   "pygments_lexer": "ipython3",
   "version": "3.10.12"
  }
 },
 "nbformat": 4,
 "nbformat_minor": 4
}
